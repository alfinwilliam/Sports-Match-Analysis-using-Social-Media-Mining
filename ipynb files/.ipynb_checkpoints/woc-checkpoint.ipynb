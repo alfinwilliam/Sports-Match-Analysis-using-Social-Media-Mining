{
 "cells": [
  {
   "cell_type": "markdown",
   "metadata": {},
   "source": [
    "# Data Collection Phase"
   ]
  },
  {
   "cell_type": "markdown",
   "metadata": {},
   "source": [
    "In this phase , data is collected from various social media sites like Twitter and Reddit.\n",
    "\n",
    "## 1. Collecting Data from Twitter using tweepy API"
   ]
  },
  {
   "cell_type": "code",
   "execution_count": 78,
   "metadata": {},
   "outputs": [],
   "source": [
    "import tweepy\n",
    "import csv\n",
    "import pandas as pd\n",
    "# input your credentials here\n",
    "consumer_key = 'gIENuDUpWlld1sCNPGz5UrLYR'\n",
    "consumer_secret = 'uwRPNA1j4reQlxLw0LA6j8ha8CcofUXYtZkIHZE7rJOv0EtvpP'\n",
    "access_token = '183906186-nOLz1Ivzed3AGycbaBAiTL7zE8vXkW7L3Lf06tsn'\n",
    "access_token_secret = 'gRn4hJiyQJLx7N1nLDvzghFse3poWdvsMimBHRJaKlKXR'\n",
    "\n",
    "auth = tweepy.OAuthHandler(consumer_key, consumer_secret)\n",
    "auth.set_access_token(access_token, access_token_secret)\n",
    "api = tweepy.API(auth, wait_on_rate_limit=True)\n",
    "csvFile = open('twitterdata.csv', 'a')\n",
    "# Use csv Writer\n",
    "csvWriter = csv.writer(csvFile)\n",
    "\n",
    "for tweet in tweepy.Cursor(api.search, q=\"#indvsaus\", count=50,\n",
    "                           lang=\"en\",\n",
    "                           since=\"2020-01-01\").items():\n",
    "    csvWriter.writerow([tweet.text.encode('utf-8')])\n"
   ]
  },
  {
   "cell_type": "markdown",
   "metadata": {},
   "source": [
    "## 2. Collecting data from Reddit using Praw API"
   ]
  },
  {
   "cell_type": "code",
   "execution_count": null,
   "metadata": {},
   "outputs": [],
   "source": [
    "import praw\n",
    "import pandas as pd\n",
    "from praw.models import MoreComments\n",
    "reddit = praw.Reddit(client_id='MjOYmV5QB4Q8bw', client_secret='Ha-Bem-WhpBXOFu6sQExGW1u760', user_agent='Scraping Example')\n",
    "\n",
    "\"\"\"\n",
    "# get 10 hot posts from the MachineLearning subreddit\n",
    "hot_posts = reddit.subreddit('Cricket').hot(limit=10)\n",
    "for post in hot_posts:\n",
    "    print(post.title)\n",
    "\"\"\"\n",
    "#comments = []\n",
    "comments=\"\"\n",
    "submission = reddit.submission(id=\"f1zmjl\")\n",
    "submission.comments.replace_more(limit=0)\n",
    "for top_level_comment in submission.comments:\n",
    "    comments = comments + top_level_comment.body\n",
    "    #comments.append([top_level_comment.body])\n",
    "#comments = pd.DataFrame(comments,columns=['comment'])\n",
    "print(comments)\n",
    "#comments.to_pickle('redditdataset.pkl')\n",
    "comments.to_csv('redditdataset.csv', sep='.', encoding='utf-8', index=False)"
   ]
  },
  {
   "cell_type": "code",
   "execution_count": null,
   "metadata": {},
   "outputs": [],
   "source": [
    "from nltk.probability import FreqDist\n",
    "fdist = FreqDist(tokenized_word)\n",
    "print(fdist)\n",
    "fdist.most_common(2)"
   ]
  },
  {
   "cell_type": "code",
   "execution_count": null,
   "metadata": {},
   "outputs": [],
   "source": [
    "# Frequency Distribution Plot\n",
    "import matplotlib.pyplot as plt\n",
    "fdist.plot(30,cumulative=False)\n",
    "plt.show()\n"
   ]
  },
  {
   "cell_type": "markdown",
   "metadata": {},
   "source": [
    "# Data Processing Phase\n",
    "\n",
    "Performing data mining algorithms on collected data to retrieve information.\n",
    "\n"
   ]
  },
  {
   "cell_type": "markdown",
   "metadata": {},
   "source": [
    "## Applying TF-IDF to collected dataset"
   ]
  },
  {
   "cell_type": "code",
   "execution_count": 41,
   "metadata": {},
   "outputs": [],
   "source": [
    "with open('twitterdata.csv', 'r') as twitterfile:\n",
    "    twittertext = twitterfile.readlines()\n",
    "# Converting List to String\n",
    "twitterdoc = ' '.join(map(str, twittertext))"
   ]
  },
  {
   "cell_type": "code",
   "execution_count": 42,
   "metadata": {},
   "outputs": [],
   "source": [
    "with open('redditdataset.csv', 'r') as redditfile:\n",
    "    reddittext = redditfile.readlines()\n",
    "# Converting List to String\n",
    "redditdata = ' '.join(map(str, reddittext))"
   ]
  },
  {
   "cell_type": "code",
   "execution_count": 43,
   "metadata": {},
   "outputs": [],
   "source": [
    "from nltk.tokenize import sent_tokenize\n",
    "from nltk.tokenize import word_tokenize\n",
    "tokenized_text=sent_tokenize(redditdata)\n",
    "tokenized_word=word_tokenize(redditdata)"
   ]
  },
  {
   "cell_type": "code",
   "execution_count": 44,
   "metadata": {},
   "outputs": [
    {
     "name": "stderr",
     "output_type": "stream",
     "text": [
      "[nltk_data] Downloading package stopwords to\n",
      "[nltk_data]     /home/warlock/nltk_data...\n",
      "[nltk_data]   Package stopwords is already up-to-date!\n"
     ]
    }
   ],
   "source": [
    "import nltk\n",
    "nltk.download('stopwords')\n",
    "from nltk.corpus import stopwords\n",
    "stop_words=set(stopwords.words(\"english\"))"
   ]
  },
  {
   "cell_type": "code",
   "execution_count": 45,
   "metadata": {},
   "outputs": [],
   "source": [
    "redditfilter = []\n",
    "for w in tokenized_word:\n",
    "    if w not in stop_words:\n",
    "        redditfilter.append(w)\n",
    "rd = ' '.join(map(str, redditfilter))"
   ]
  },
  {
   "cell_type": "code",
   "execution_count": 46,
   "metadata": {},
   "outputs": [],
   "source": [
    "import re\n",
    "rwo = re.findall(r'\\w+', rd)\n",
    "rdi = [i for i in rwo if not i.isdigit()]\n",
    "fw = [i for i in rdi if len(i) > 1]\n",
    "redditdoc = ' '.join(map(str, fw))"
   ]
  },
  {
   "cell_type": "code",
   "execution_count": 47,
   "metadata": {},
   "outputs": [],
   "source": [
    "# Slicing the string into two to perform TF - IDF Algorithm\n",
    "#str_one, str_two = filt_sent_string[:len(filt_sent_string)//2],filt_sent_string[len(filt_sent_string)//2:] \n"
   ]
  },
  {
   "cell_type": "code",
   "execution_count": 48,
   "metadata": {},
   "outputs": [
    {
     "name": "stdout",
     "output_type": "stream",
     "text": [
      "Top words in document 1\n",
      "Tweets\n",
      "Kumble\n",
      "70.5\n",
      "Top words in document 2\n",
      "comment\n",
      "So\n",
      "worst\n",
      "series\n",
      "Kohli\n"
     ]
    }
   ],
   "source": [
    "import math\n",
    "from textblob import TextBlob as tb\n",
    "\n",
    "def tf(word, blob):\n",
    "    return blob.words.count(word) / len(blob.words)\n",
    "\n",
    "def n_containing(word, bloblist):\n",
    "    return sum(1 for blob in bloblist if word in blob)\n",
    "\n",
    "def idf(word, bloblist):\n",
    "    return math.log(len(bloblist) / (1 + n_containing(word, bloblist)))\n",
    "\n",
    "def tfidf(word, blob, bloblist):\n",
    "    return tf(word, blob) * idf(word, bloblist)\n",
    "\n",
    "document1 = tb(twitterdoc)\n",
    "\n",
    "document2 = tb(redditdoc)\n",
    "\n",
    "bloblist = [document1, document2]\n",
    "for i, blob in enumerate(bloblist):\n",
    "    print(\"Top words in document {}\".format(i + 1))\n",
    "    scores = {word: tfidf(word, blob, bloblist) for word in blob.words}\n",
    "    sorted_words = sorted(scores.items(), key=lambda x: x[1], reverse=True)\n",
    "    for word, score in sorted_words[:5]:\n",
    "        #print(\"Word: {}, TF-IDF: {}\".format(word, round(score, 5)))\n",
    "        if not word.isdigit():\n",
    "            print(word)"
   ]
  },
  {
   "cell_type": "code",
   "execution_count": 49,
   "metadata": {},
   "outputs": [],
   "source": [
    "from sklearn.feature_extraction.text import TfidfVectorizer\n",
    "tfidf = TfidfVectorizer()"
   ]
  },
  {
   "cell_type": "code",
   "execution_count": 50,
   "metadata": {},
   "outputs": [],
   "source": [
    "response = tfidf.fit_transform([twitterdoc, redditdoc])"
   ]
  },
  {
   "cell_type": "code",
   "execution_count": 51,
   "metadata": {},
   "outputs": [
    {
     "name": "stdout",
     "output_type": "stream",
     "text": [
      "symonds  -  0.19406231545265296\n",
      "hussey  -  0.1542546610008267\n",
      "tendulkar  -  0.11329389601257225\n",
      "dravid  -  0.11683433026296514\n",
      "india  -  0.27615387153064486\n",
      "tendulkar  -  0.11329389601257225\n",
      "dravid  -  0.11683433026296514\n",
      "india  -  0.27615387153064486\n"
     ]
    }
   ],
   "source": [
    "tfidfwords = []\n",
    "feature_names = tfidf.get_feature_names()\n",
    "for col in response.nonzero()[1]:\n",
    "    if not feature_names[col].isdigit() and len(feature_names[col]) > 3 and int((response[0, col]) * 10) % 10 != 0:\n",
    "        print (feature_names[col], ' - ', response[0, col])\n",
    "        tfidfwords.append(feature_names[col])"
   ]
  },
  {
   "cell_type": "code",
   "execution_count": 52,
   "metadata": {},
   "outputs": [
    {
     "name": "stdout",
     "output_type": "stream",
     "text": [
      "Fans Mostly discussed about :  ['symonds', 'hussey', 'tendulkar', 'dravid', 'india', 'tendulkar', 'dravid', 'india']\n"
     ]
    }
   ],
   "source": [
    "print(\"Fans Mostly discussed about : \",tfidfwords)"
   ]
  },
  {
   "cell_type": "code",
   "execution_count": null,
   "metadata": {},
   "outputs": [],
   "source": [
    "#combining the reddit & twitter data for retrieving key comments\n",
    "finaldataset = twitterdoc + redditdata\n",
    "print(finaldataset)"
   ]
  },
  {
   "cell_type": "code",
   "execution_count": 64,
   "metadata": {},
   "outputs": [
    {
     "data": {
      "text/plain": [
       "['\\n Madarchod Mode activated\\n To get rid of the bilateral bully tag kohli has decided he will only score 100s in the world cup.',\n",
       " '\"\\n Pretty unsual stuff this from kohli.',\n",
       " ' Pretty unlike the restless kohli we know\\n james+ anderson= Jamieson\\n \"NZ: has slight advantage \\n \\n Ian Smith: aggressively licks lips\"\\n Shaw reminds me of Sehawag.',\n",
       " '\\n Apparently kohli is very overrated in LOIs.']"
      ]
     },
     "execution_count": 64,
     "metadata": {},
     "output_type": "execute_result"
    }
   ],
   "source": [
    "re.findall(r\"([^.]*?kohli[^.]*\\.)\",finaldataset)"
   ]
  },
  {
   "cell_type": "markdown",
   "metadata": {},
   "source": [
    "# Sentiment Analysis using NLTK"
   ]
  },
  {
   "cell_type": "code",
   "execution_count": 3,
   "metadata": {},
   "outputs": [],
   "source": [
    "import pandas as pd\n",
    "messages = [line.rstrip() for line in open(\"redditdataset.csv\")]\n",
    "data = pd.read_csv(\"redditdataset.csv\",sep=\"\\n\",names=[\"message\"])"
   ]
  },
  {
   "cell_type": "code",
   "execution_count": 7,
   "metadata": {},
   "outputs": [
    {
     "data": {
      "text/plain": [
       "'So this is the worst series of Kohli like in years.'"
      ]
     },
     "execution_count": 7,
     "metadata": {},
     "output_type": "execute_result"
    }
   ],
   "source": [
    "data[\"message\"][1]\n",
    "#just to check if datacorpus is loaded currectly."
   ]
  },
  {
   "cell_type": "code",
   "execution_count": 11,
   "metadata": {},
   "outputs": [
    {
     "name": "stderr",
     "output_type": "stream",
     "text": [
      "[nltk_data] Downloading package vader_lexicon to\n",
      "[nltk_data]     /home/warlock/nltk_data...\n"
     ]
    },
    {
     "data": {
      "text/plain": [
       "True"
      ]
     },
     "execution_count": 11,
     "metadata": {},
     "output_type": "execute_result"
    }
   ],
   "source": [
    "import nltk\n",
    "nltk.download('vader_lexicon')"
   ]
  },
  {
   "cell_type": "code",
   "execution_count": 12,
   "metadata": {},
   "outputs": [],
   "source": [
    "from nltk.sentiment.vader import SentimentIntensityAnalyzer"
   ]
  },
  {
   "cell_type": "code",
   "execution_count": 13,
   "metadata": {},
   "outputs": [],
   "source": [
    "sid = SentimentIntensityAnalyzer()"
   ]
  },
  {
   "cell_type": "code",
   "execution_count": 15,
   "metadata": {},
   "outputs": [
    {
     "name": "stdout",
     "output_type": "stream",
     "text": [
      "{'positive': 206, 'neutral': 448, 'negative': 140}\n"
     ]
    }
   ],
   "source": [
    "summary = {\"positive\":0,\"neutral\":0,\"negative\":0}\n",
    "for x in messages: \n",
    "    ss = sid.polarity_scores(x)\n",
    "    if ss[\"compound\"] == 0.0: \n",
    "        summary[\"neutral\"] +=1\n",
    "    elif ss[\"compound\"] > 0.0:\n",
    "        summary[\"positive\"] +=1\n",
    "    else:\n",
    "        summary[\"negative\"] +=1\n",
    "print(summary)"
   ]
  },
  {
   "cell_type": "code",
   "execution_count": 16,
   "metadata": {},
   "outputs": [
    {
     "data": {
      "text/plain": [
       "dict"
      ]
     },
     "execution_count": 16,
     "metadata": {},
     "output_type": "execute_result"
    }
   ],
   "source": [
    "type(summary)"
   ]
  },
  {
   "cell_type": "code",
   "execution_count": 51,
   "metadata": {},
   "outputs": [
    {
     "data": {
      "image/png": "[encoded data removed]",
      "text/plain": [
       "<Figure size 432x288 with 1 Axes>"
      ]
     },
     "metadata": {},
     "output_type": "display_data"
    }
   ],
   "source": [
    "import matplotlib.pyplot as plt\n",
    "labels = tuple(summary.keys())\n",
    "sizes = list(summary.values())\n",
    "explode = (0, 0.1, 0)\n",
    "plt.pie(sizes, explode=explode, labels=labels, autopct='%1.1f%%',\n",
    "        shadow=True)\n",
    "plt.axis('equal')\n",
    "plt.show()"
   ]
  },
  {
   "cell_type": "code",
   "execution_count": null,
   "metadata": {},
   "outputs": [],
   "source": []
  }
 ],
 "metadata": {
  "kernelspec": {
   "display_name": "Python 3",
   "language": "python",
   "name": "python3"
  },
  "language_info": {
   "codemirror_mode": {
    "name": "ipython",
    "version": 3
   },
   "file_extension": ".py",
   "mimetype": "text/x-python",
   "name": "python",
   "nbconvert_exporter": "python",
   "pygments_lexer": "ipython3",
   "version": "3.7.4"
  }
 },
 "nbformat": 4,
 "nbformat_minor": 2
}
