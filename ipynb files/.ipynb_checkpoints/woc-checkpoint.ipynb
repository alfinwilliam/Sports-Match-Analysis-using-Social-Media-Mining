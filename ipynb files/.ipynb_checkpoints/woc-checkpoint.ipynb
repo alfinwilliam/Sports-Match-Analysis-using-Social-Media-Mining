{
 "cells": [
  {
   "cell_type": "markdown",
   "metadata": {},
   "source": [
    "# Data Collection Phase"
   ]
  },
  {
   "cell_type": "markdown",
   "metadata": {},
   "source": [
    "In this phase , data is collected from various social media sites like Twitter and Reddit.\n",
    "\n",
    "## 1. Collecting Data from Twitter using tweepy API"
   ]
  },
  {
   "cell_type": "code",
   "execution_count": null,
   "metadata": {},
   "outputs": [],
   "source": [
    "import tweepy\n",
    "from tweepy import API \n",
    "from tweepy import Cursor\n",
    "from tweepy.streaming import StreamListener\n",
    "from tweepy import OAuthHandler\n",
    "from tweepy import Stream\n",
    " \n",
    "import twitter_credentials\n",
    "import numpy as np\n",
    "import pandas as pd\n",
    "# # # # TWITTER CLIENT # # # #\n",
    "class TwitterClient():\n",
    "    def __init__(self, twitter_user=None):\n",
    "        self.auth = TwitterAuthenticator().authenticate_twitter_app()\n",
    "        self.twitter_client = API(self.auth)\n",
    "\n",
    "        self.twitter_user = twitter_user\n",
    "\n",
    "    def get_twitter_client_api(self):\n",
    "        return self.twitter_client\n",
    "\n",
    "    def get_user_timeline_tweets(self, num_tweets):\n",
    "        tweets = []\n",
    "        for tweet in Cursor(self.twitter_client.user_timeline, id=self.twitter_user).items(num_tweets):\n",
    "            tweets.append(tweet)\n",
    "        return tweets\n",
    "\n",
    "    def get_friend_list(self, num_friends):\n",
    "        friend_list = []\n",
    "        for friend in Cursor(self.twitter_client.friends, id=self.twitter_user).items(num_friends):\n",
    "            friend_list.append(friend)\n",
    "        return friend_list\n",
    "\n",
    "    def get_home_timeline_tweets(self, num_tweets):\n",
    "        home_timeline_tweets = []\n",
    "        for tweet in Cursor(self.twitter_client.home_timeline, id=self.twitter_user).items(num_tweets):\n",
    "            home_timeline_tweets.append(tweet)\n",
    "        return home_timeline_tweets\n",
    "\n",
    "\n",
    "# # # # TWITTER AUTHENTICATER # # # #\n",
    "class TwitterAuthenticator():\n",
    "\n",
    "    def authenticate_twitter_app(self):\n",
    "        auth = OAuthHandler(twitter_credentials.CONSUMER_KEY, twitter_credentials.CONSUMER_SECRET)\n",
    "        auth.set_access_token(twitter_credentials.ACCESS_TOKEN, twitter_credentials.ACCESS_TOKEN_SECRET)\n",
    "        return auth\n",
    "\n",
    "# # # # TWITTER STREAMER # # # #\n",
    "class TwitterStreamer():\n",
    "    \"\"\"\n",
    "    Class for streaming and processing live tweets.\n",
    "    \"\"\"\n",
    "    def __init__(self):\n",
    "        self.twitter_autenticator = TwitterAuthenticator()    \n",
    "\n",
    "    def stream_tweets(self, fetched_tweets_filename, hash_tag_list):\n",
    "        # This handles Twitter authetification and the connection to Twitter Streaming API\n",
    "        listener = TwitterListener(fetched_tweets_filename)\n",
    "        auth = self.twitter_autenticator.authenticate_twitter_app() \n",
    "        stream = Stream(auth, listener)\n",
    "\n",
    "        # This line filter Twitter Streams to capture data by the keywords: \n",
    "        stream.filter(track=hash_tag_list)\n",
    "\n",
    "\n",
    "# # # # TWITTER STREAM LISTENER # # # #\n",
    "class TwitterListener(StreamListener):\n",
    "    \"\"\"\n",
    "    This is a basic listener that just prints received tweets to stdout.\n",
    "    \"\"\"\n",
    "    def __init__(self, fetched_tweets_filename):\n",
    "        self.fetched_tweets_filename = fetched_tweets_filename\n",
    "\n",
    "    def on_data(self, data):\n",
    "        try:\n",
    "            print(data)\n",
    "            with open(self.fetched_tweets_filename, 'a') as tf:\n",
    "                tf.write(data)\n",
    "            return True\n",
    "        except BaseException as e:\n",
    "            print(\"Error on_data %s\" % str(e))\n",
    "        return True\n",
    "          \n",
    "    def on_error(self, status):\n",
    "        if status == 420:\n",
    "            # Returning False on_data method in case rate limit occurs.\n",
    "            return False\n",
    "        print(status)\n",
    "\n",
    "\n",
    "class TweetAnalyzer():\n",
    "    \"\"\"\n",
    "    Functionality for analyzing and categorizing content from tweets.\n",
    "    \"\"\"\n",
    "    def tweets_to_data_frame(self, tweets):\n",
    "        df = pd.DataFrame(data=[tweet.text for tweet in tweets], columns=['Tweets'])\n",
    "\n",
    "        #df['id'] = np.array([tweet.id for tweet in tweets])\n",
    "        #df['len'] = np.array([len(tweet.text) for tweet in tweets])\n",
    "        #df['date'] = np.array([tweet.created_at for tweet in tweets])\n",
    "        #df['source'] = np.array([tweet.source for tweet in tweets])\n",
    "        #df['likes'] = np.array([tweet.favorite_count for tweet in tweets])\n",
    "        #df['retweets'] = np.array([tweet.retweet_count for tweet in tweets])\n",
    "\n",
    "        return df\n",
    "\n",
    " \n",
    "if __name__ == '__main__':\n",
    "\n",
    "    twitter_client = TwitterClient()\n",
    "    tweet_analyzer = TweetAnalyzer()\n",
    "\n",
    "    api = twitter_client.get_twitter_client_api()\n",
    "\n",
    "    #tweets = api.user_timeline(screen_name=\"AUSvIND\", count=500)\n",
    "    search_words = [\"#INDvsAUS \", \"#indvsaus\"]\n",
    "\n",
    "    date_since = \"2020-01-01\"\n",
    "\n",
    "    tweets = tweepy.Cursor(api.search, search_words,\n",
    "                       geocode=\"20.5937,78.9629,3000km\",\n",
    "                       lang=\"en\", since=date_since).items(100)\n",
    "\n",
    "    #print(dir(tweets[0]))\n",
    "    #print(tweets[0].retweet_count)\n",
    "\n",
    "    df = tweet_analyzer.tweets_to_data_frame(tweets)\n",
    "    \n",
    "    print(df.head(100))\n",
    "    #df.to_pickle('tweets.pkl')\n",
    "    df.to_csv('twitterdata.csv')"
   ]
  },
  {
   "cell_type": "markdown",
   "metadata": {},
   "source": [
    "## 2. Collecting data from Reddit using Praw API"
   ]
  },
  {
   "cell_type": "code",
   "execution_count": null,
   "metadata": {},
   "outputs": [],
   "source": [
    "import praw\n",
    "import pandas as pd\n",
    "from praw.models import MoreComments\n",
    "reddit = praw.Reddit(client_id='MjOYmV5QB4Q8bw', client_secret='Ha-Bem-WhpBXOFu6sQExGW1u760', user_agent='Scraping Example')\n",
    "\n",
    "\"\"\"\n",
    "# get 10 hot posts from the MachineLearning subreddit\n",
    "hot_posts = reddit.subreddit('Cricket').hot(limit=10)\n",
    "for post in hot_posts:\n",
    "    print(post.title)\n",
    "\"\"\"\n",
    "#comments = []\n",
    "comments=\"\"\n",
    "submission = reddit.submission(id=\"f1zmjl\")\n",
    "submission.comments.replace_more(limit=0)\n",
    "for top_level_comment in submission.comments:\n",
    "    comments = comments + top_level_comment.body\n",
    "    #comments.append([top_level_comment.body])\n",
    "#comments = pd.DataFrame(comments,columns=['comment'])\n",
    "print(comments)\n",
    "#comments.to_pickle('redditdataset.pkl')\n",
    "comments.to_csv('redditdataset.csv', sep='.', encoding='utf-8', index=False)"
   ]
  },
  {
   "cell_type": "markdown",
   "metadata": {},
   "source": [
    "# Data Processing Phase\n",
    "\n",
    "Performing data mining algorithms on collected data to retrieve information.\n",
    "\n"
   ]
  },
  {
   "cell_type": "markdown",
   "metadata": {},
   "source": [
    "## Applying TF-IDF to collected dataset"
   ]
  },
  {
   "cell_type": "code",
   "execution_count": 1,
   "metadata": {},
   "outputs": [],
   "source": [
    "with open('twitterdata.csv', 'r') as twitterfile:\n",
    "    twittertext = twitterfile.readlines()\n",
    "# Converting List to String\n",
    "twitterdata = ' '.join(map(str, twittertext))\n",
    "#print(twitterdata)"
   ]
  },
  {
   "cell_type": "code",
   "execution_count": 2,
   "metadata": {},
   "outputs": [],
   "source": [
    "from nltk.tokenize import sent_tokenize\n",
    "from nltk.tokenize import word_tokenize\n",
    "ttokenized_text=sent_tokenize(twitterdata)\n",
    "ttokenized_word=word_tokenize(twitterdata)"
   ]
  },
  {
   "cell_type": "code",
   "execution_count": 3,
   "metadata": {},
   "outputs": [
    {
     "name": "stderr",
     "output_type": "stream",
     "text": [
      "[nltk_data] Downloading package stopwords to\n",
      "[nltk_data]     /home/warlock/nltk_data...\n",
      "[nltk_data]   Package stopwords is already up-to-date!\n"
     ]
    }
   ],
   "source": [
    "import nltk\n",
    "nltk.download('stopwords')\n",
    "from nltk.corpus import stopwords\n",
    "stop_words=set(stopwords.words(\"english\"))"
   ]
  },
  {
   "cell_type": "code",
   "execution_count": 4,
   "metadata": {},
   "outputs": [],
   "source": [
    "twitterfilter = []\n",
    "for w in ttokenized_word:\n",
    "    if w not in stop_words:\n",
    "        twitterfilter.append(w)\n",
    "td = ' '.join(map(str, twitterfilter))"
   ]
  },
  {
   "cell_type": "code",
   "execution_count": 5,
   "metadata": {},
   "outputs": [],
   "source": [
    "import re\n",
    "two = re.findall(r'\\w+', td)\n",
    "tdi = [i for i in two if not i.isdigit()]\n",
    "tw = [i for i in tdi if len(i) > 1]\n",
    "twitterdoc = ' '.join(map(str, tw))"
   ]
  },
  {
   "cell_type": "code",
   "execution_count": 6,
   "metadata": {},
   "outputs": [],
   "source": [
    "with open('redditdataset.csv', 'r') as redditfile:\n",
    "    reddittext = redditfile.readlines()\n",
    "# Converting List to String\n",
    "redditdata = ' '.join(map(str, reddittext))"
   ]
  },
  {
   "cell_type": "code",
   "execution_count": 7,
   "metadata": {},
   "outputs": [],
   "source": [
    "from nltk.tokenize import sent_tokenize\n",
    "from nltk.tokenize import word_tokenize\n",
    "tokenized_text=sent_tokenize(redditdata)\n",
    "tokenized_word=word_tokenize(redditdata)"
   ]
  },
  {
   "cell_type": "code",
   "execution_count": 8,
   "metadata": {},
   "outputs": [],
   "source": [
    "redditfilter = []\n",
    "for w in tokenized_word:\n",
    "    if w not in stop_words:\n",
    "        redditfilter.append(w)\n",
    "rd = ' '.join(map(str, redditfilter))"
   ]
  },
  {
   "cell_type": "code",
   "execution_count": 9,
   "metadata": {},
   "outputs": [],
   "source": [
    "import re\n",
    "rwo = re.findall(r'\\w+', rd)\n",
    "rdi = [i for i in rwo if not i.isdigit()]\n",
    "fw = [i for i in rdi if len(i) > 1]\n",
    "redditdoc = ' '.join(map(str, fw))"
   ]
  },
  {
   "cell_type": "code",
   "execution_count": 10,
   "metadata": {},
   "outputs": [],
   "source": [
    "# Slicing the string into two to perform TF - IDF Algorithm\n",
    "#str_one, str_two = filt_sent_string[:len(filt_sent_string)//2],filt_sent_string[len(filt_sent_string)//2:] \n"
   ]
  },
  {
   "cell_type": "code",
   "execution_count": 12,
   "metadata": {},
   "outputs": [],
   "source": [
    "from sklearn.feature_extraction.text import TfidfVectorizer\n",
    "tfidf = TfidfVectorizer()"
   ]
  },
  {
   "cell_type": "code",
   "execution_count": 13,
   "metadata": {},
   "outputs": [],
   "source": [
    "response = tfidf.fit_transform([twitterdoc, redditdoc])"
   ]
  },
  {
   "cell_type": "code",
   "execution_count": 14,
   "metadata": {},
   "outputs": [
    {
     "name": "stdout",
     "output_type": "stream",
     "text": [
      "rock  -  0.016305531953760114\n",
      "irritating  -  0.016305531953760114\n",
      "starting  -  0.011601520279438516\n",
      "news  -  0.011601520279438516\n",
      "good  -  0.011601520279438516\n",
      "finally  -  0.011601520279438516\n",
      "mylovevirat18  -  0.016305531953760114\n",
      "masterclass  -  0.016305531953760114\n",
      "desertstorm  -  0.016305531953760114\n",
      "best  -  0.011601520279438516\n",
      "sachin_rt  -  0.016305531953760114\n",
      "inning  -  0.011601520279438516\n",
      "storm  -  0.016305531953760114\n",
      "desert  -  0.016305531953760114\n",
      "commentary  -  0.011601520279438516\n",
      "greig  -  0.016305531953760114\n",
      "tony  -  0.016305531953760114\n",
      "e9fhdkxvvl  -  0.016305531953760114\n",
      "played  -  0.011601520279438516\n",
      "teamindia  -  0.016305531953760114\n",
      "testcricket  -  0.016305531953760114\n",
      "claim  -  0.016305531953760114\n",
      "mclarke23  -  0.016305531953760114\n",
      "dismisses  -  0.016305531953760114\n",
      "aaronfinch5  -  0.016305531953760114\n",
      "cricketnews  -  0.016305531953760114\n",
      "edengarden  -  0.016305531953760114\n",
      "hatrick  -  0.016305531953760114\n",
      "imkuldeep18  -  0.016305531953760114\n",
      "kkriders  -  0.016305531953760114\n",
      "5rsmmaj3sj  -  0.016305531953760114\n",
      "lords  -  0.016305531953760114\n",
      "still  -  0.011601520279438516\n",
      "wants  -  0.011601520279438516\n",
      "deliver  -  0.016305531953760114\n",
      "ajinkyarahane88  -  0.016305531953760114\n",
      "happybirthday  -  0.016305531953760114\n",
      "yjvijzgbuh  -  0.016305531953760114\n",
      "more  -  0.011601520279438516\n",
      "wishing  -  0.016305531953760114\n",
      "reputation  -  0.016305531953760114\n",
      "given  -  0.011601520279438516\n",
      "fared  -  0.016305531953760114\n",
      "well  -  0.011601520279438516\n",
      "always  -  0.023203040558877033\n",
      "will  -  0.011601520279438516\n",
      "jinx  -  0.016305531953760114\n",
      "birthday  -  0.011601520279438516\n",
      "happy  -  0.011601520279438516\n",
      "ug6ctfgg8u  -  0.016305531953760114\n",
      "relivethemoment  -  0.016305531953760114\n",
      "t20wc2016  -  0.016305531953760114\n",
      "starsportsindia  -  0.016305531953760114\n",
      "thankyou  -  0.016305531953760114\n",
      "aklive  -  0.016305531953760114\n",
      "wt20  -  0.011601520279438516\n",
      "knock  -  0.011601520279438516\n",
      "genius  -  0.011601520279438516\n",
      "anilkumble1074  -  0.016305531953760114\n",
      "qygtvianxs  -  0.016305531953760114\n",
      "here  -  0.023203040558877033\n",
      "selected  -  0.03480456083831555\n",
      "shubmangill  -  0.048916595861280346\n",
      "prithvishaw  -  0.048916595861280346\n",
      "return  -  0.03480456083831555\n",
      "expected  -  0.048916595861280346\n",
      "rohitsharma  -  0.048916595861280346\n",
      "international  -  0.011601520279438516\n",
      "various  -  0.016305531953760114\n",
      "dominance  -  0.016305531953760114\n",
      "steel  -  0.016305531953760114\n",
      "made  -  0.011601520279438516\n",
      "nerves  -  0.016305531953760114\n",
      "proved  -  0.016305531953760114\n",
      "getter  -  0.016305531953760114\n",
      "ameetasinh  -  0.016305531953760114\n",
      "oc6ccelfjj  -  0.03261106390752023\n",
      "chanting  -  0.03261106390752023\n",
      "starts  -  0.023203040558877033\n",
      "ball  -  0.023203040558877033\n",
      "misses  -  0.023203040558877033\n",
      "vlp1994  -  0.03261106390752023\n",
      "cwc15  -  0.09783319172256069\n",
      "indiayouloser  -  0.09783319172256069\n",
      "maukamauka  -  0.09783319172256069\n",
      "interesting  -  0.0696091216766311\n",
      "something  -  0.0696091216766311\n",
      "ridanajamkhan  -  0.09783319172256069\n",
      "spxvp3dahv  -  0.016305531953760114\n",
      "indvaus  -  0.03261106390752023\n",
      "comments  -  0.03261106390752023\n",
      "mention  -  0.023203040558877033\n",
      "track  -  0.03261106390752023\n",
      "spinning  -  0.03261106390752023\n",
      "zize6kysq2  -  0.03261106390752023\n",
      "option  -  0.023203040558877033\n",
      "bowling  -  0.023203040558877033\n",
      "seam  -  0.023203040558877033\n",
      "extra  -  0.023203040558877033\n",
      "hardikpandya7  -  0.03261106390752023\n",
      "backs  -  0.03261106390752023\n",
      "chappell  -  0.03261106390752023\n",
      "cricketnext  -  0.016305531953760114\n",
      "i9gsmw91em  -  0.016305531953760114\n",
      "role  -  0.011601520279438516\n",
      "support  -  0.016305531953760114\n",
      "vvslaxman281  -  0.016305531953760114\n",
      "protagonist  -  0.016305531953760114\n",
      "encounter  -  0.016305531953760114\n",
      "epic  -  0.016305531953760114\n",
      "kolkata  -  0.016305531953760114\n",
      "8deubtt09v  -  0.016305531953760114\n",
      "player  -  0.011601520279438516\n",
      "innings  -  0.03480456083831555\n",
      "what  -  0.03480456083831555\n",
      "sasural  -  0.03261106390752023\n",
      "scored  -  0.023203040558877033\n",
      "sujoybarg07  -  0.016305531953760114\n",
      "dkkydajukl  -  0.016305531953760114\n",
      "from  -  0.011601520279438516\n",
      "till  -  0.011601520279438516\n",
      "carried  -  0.016305531953760114\n",
      "matches  -  0.011601520279438516\n",
      "indvspak  -  0.016305531953760114\n",
      "pressure  -  0.011601520279438516\n",
      "feel  -  0.011601520279438516\n",
      "days  -  0.011601520279438516\n",
      "growing  -  0.011601520279438516\n",
      "bhogleharsha  -  0.016305531953760114\n",
      "7io2ng2rmd  -  0.016305531953760114\n",
      "century  -  0.011601520279438516\n",
      "magnificent  -  0.016305531953760114\n",
      "scoring  -  0.011601520279438516\n",
      "show  -  0.011601520279438516\n",
      "gabbar  -  0.03480456083831555\n",
      "phone  -  0.016305531953760114\n",
      "pictures  -  0.016305531953760114\n",
      "found  -  0.011601520279438516\n",
      "4lrveojo9f  -  0.016305531953760114\n",
      "include  -  0.016305531953760114\n",
      "should  -  0.046406081117754065\n",
      "injury  -  0.011601520279438516\n",
      "serious  -  0.011601520279438516\n",
      "recovering  -  0.016305531953760114\n",
      "since  -  0.011601520279438516\n",
      "featured  -  0.016305531953760114\n",
      "pandya  -  0.011601520279438516\n",
      "wyb2p72il2  -  0.016305531953760114\n",
      "world  -  0.03480456083831555\n",
      "defeated  -  0.048916595861280346\n",
      "time  -  0.03480456083831555\n",
      "cwc19  -  0.048916595861280346\n",
      "tzfnxd8qwx  -  0.016305531953760114\n",
      "indiavsaustralia  -  0.016305531953760114\n",
      "onthisdate  -  0.016305531953760114\n",
      "onthisday  -  0.016305531953760114\n",
      "runs  -  0.011601520279438516\n",
      "beat  -  0.016305531953760114\n",
      "june  -  0.06522212781504046\n",
      "this  -  0.046406081117754065\n",
      "aiajk19hos  -  0.016305531953760114\n",
      "instead  -  0.011601520279438516\n",
      "booing  -  0.016305531953760114\n",
      "stop  -  0.011601520279438516\n",
      "crowd  -  0.03480456083831555\n",
      "asked  -  0.016305531953760114\n",
      "when  -  0.011601520279438516\n",
      "incident  -  0.016305531953760114\n",
      "remember  -  0.023203040558877033\n",
      "yvbusxncqk  -  0.016305531953760114\n",
      "match  -  0.011601520279438516\n",
      "second  -  0.011601520279438516\n",
      "dhoni  -  0.08121064195606961\n",
      "gloves  -  0.011601520279438516\n",
      "change  -  0.011601520279438516\n",
      "y24m8jiebj  -  0.016305531953760114\n",
      "tour  -  0.011601520279438516\n",
      "india  -  0.11601520279438515\n",
      "during  -  0.016305531953760114\n",
      "backfire  -  0.016305531953760114\n",
      "with  -  0.011601520279438516\n",
      "battles  -  0.016305531953760114\n",
      "verbal  -  0.016305531953760114\n",
      "feels  -  0.011601520279438516\n",
      "stone  -  0.03261106390752023\n",
      "stepping  -  0.03261106390752023\n",
      "defeat  -  0.023203040558877033\n",
      "t20worldcup  -  0.03261106390752023\n",
      "performance  -  0.023203040558877033\n",
      "remarkable  -  0.03261106390752023\n",
      "team  -  0.058007601397192576\n",
      "women  -  0.048916595861280346\n",
      "indian  -  0.023203040558877033\n",
      "kudos  -  0.03261106390752023\n",
      "ysjagan  -  0.03261106390752023\n",
      "better  -  0.011601520279438516\n",
      "nothing  -  0.011601520279438516\n",
      "cummins  -  0.016305531953760114\n",
      "starc  -  0.011601520279438516\n",
      "waiting  -  0.023203040558877033\n",
      "thejinxyyyy  -  0.016305531953760114\n",
      "e3cli7hakf  -  0.016305531953760114\n",
      "mayan  -  0.016305531953760114\n",
      "agarw  -  0.016305531953760114\n",
      "mayank  -  0.011601520279438516\n",
      "openers  -  0.03261106390752023\n",
      "main  -  0.03261106390752023\n",
      "australia  -  0.1508197636327007\n",
      "test  -  0.0696091216766311\n",
      "opener  -  0.058007601397192576\n",
      "backup  -  0.08152765976880058\n",
      "rather  -  0.023203040558877033\n",
      "would  -  0.046406081117754065\n",
      "cricalytics  -  0.06522212781504046\n",
      "shashankv76  -  0.016305531953760114\n",
      "rp2utl9zja  -  0.016305531953760114\n",
      "rahuldravid  -  0.016305531953760114\n",
      "kohli  -  0.0696091216766311\n",
      "virat  -  0.046406081117754065\n",
      "sledging  -  0.03261106390752023\n",
      "remarks  -  0.03261106390752023\n",
      "wade  -  0.048916595861280346\n",
      "matthew  -  0.048916595861280346\n",
      "rahul  -  0.058007601397192576\n",
      "aggressive  -  0.023203040558877033\n",
      "want  -  0.023203040558877033\n",
      "klrahul  -  0.06522212781504046\n",
      "coming  -  0.011601520279438516\n",
      "even  -  0.011601520279438516\n",
      "easily  -  0.011601520279438516\n",
      "like  -  0.011601520279438516\n",
      "format  -  0.016305531953760114\n",
      "make  -  0.011601520279438516\n",
      "look  -  0.023203040558877033\n",
      "just  -  0.011601520279438516\n",
      "gajal_dalmia  -  0.016305531953760114\n",
      "ffc4pfbvfr  -  0.016305531953760114\n",
      "back  -  0.046406081117754065\n",
      "hoping  -  0.048916595861280346\n",
      "really  -  0.03480456083831555\n",
      "build  -  0.048916595861280346\n",
      "great  -  0.03480456083831555\n",
      "year  -  0.08121064195606961\n",
      "marquee  -  0.048916595861280346\n",
      "itgdsports  -  0.06522212781504046\n",
      "indvsaus  -  0.45655489470528327\n",
      "nagpur  -  0.03261106390752023\n",
      "spin  -  0.046406081117754065\n",
      "last  -  0.046406081117754065\n",
      "showing  -  0.048916595861280346\n",
      "whatsapp  -  0.03261106390752023\n",
      "ashwin  -  0.03261106390752023\n",
      "bhai_saheb  -  0.03261106390752023\n",
      "15bfeqj1kl  -  0.016305531953760114\n",
      "deba  -  0.016305531953760114\n",
      "debates  -  0.016305531953760114\n",
      "opened  -  0.03261106390752023\n",
      "imvkohli  -  0.048916595861280346\n",
      "sledge  -  0.03261106390752023\n",
      "aussies  -  0.03261106390752023\n",
      "matthewwade  -  0.03261106390752023\n",
      "wicketkeeper  -  0.023203040558877033\n",
      "australian  -  0.03261106390752023\n",
      "words  -  0.03261106390752023\n",
      "recent  -  0.03261106390752023\n",
      "sportsflashes  -  0.016305531953760114\n",
      "fn0uegxgss  -  0.016305531953760114\n",
      "finale  -  0.016305531953760114\n",
      "cricket  -  0.058007601397192576\n",
      "h33qfkeafq  -  0.016305531953760114\n",
      "dravid  -  0.046406081117754065\n",
      "says  -  0.048916595861280346\n",
      "cracking  -  0.016305531953760114\n",
      "series  -  0.09281216223550813\n",
      "upcoming  -  0.03480456083831555\n",
      "sim2izgfr5  -  0.016305531953760114\n",
      "https  -  0.34804560838315546\n",
      "summer  -  0.016305531953760114\n",
      "banter  -  0.011601520279438516\n",
      "feeling  -  0.011601520279438516\n",
      "getting  -  0.011601520279438516\n",
      "bollywood  -  0.016305531953760114\n",
      "trying  -  0.011601520279438516\n",
      "amenners  -  0.016305531953760114\n",
      "tweets  -  0.016305531953760114\n",
      "starting  -  0.011601520279438516\n",
      "news  -  0.011601520279438516\n",
      "good  -  0.011601520279438516\n",
      "finally  -  0.011601520279438516\n",
      "best  -  0.011601520279438516\n",
      "inning  -  0.011601520279438516\n",
      "commentary  -  0.011601520279438516\n",
      "played  -  0.011601520279438516\n",
      "still  -  0.011601520279438516\n",
      "wants  -  0.011601520279438516\n",
      "more  -  0.011601520279438516\n"
     ]
    },
    {
     "name": "stdout",
     "output_type": "stream",
     "text": [
      "given  -  0.011601520279438516\n",
      "well  -  0.011601520279438516\n",
      "always  -  0.023203040558877033\n",
      "will  -  0.011601520279438516\n",
      "birthday  -  0.011601520279438516\n",
      "happy  -  0.011601520279438516\n",
      "wt20  -  0.011601520279438516\n",
      "knock  -  0.011601520279438516\n",
      "genius  -  0.011601520279438516\n",
      "here  -  0.023203040558877033\n",
      "selected  -  0.03480456083831555\n",
      "return  -  0.03480456083831555\n",
      "international  -  0.011601520279438516\n",
      "made  -  0.011601520279438516\n",
      "starts  -  0.023203040558877033\n",
      "ball  -  0.023203040558877033\n",
      "misses  -  0.023203040558877033\n",
      "interesting  -  0.0696091216766311\n",
      "something  -  0.0696091216766311\n",
      "mention  -  0.023203040558877033\n",
      "option  -  0.023203040558877033\n",
      "bowling  -  0.023203040558877033\n",
      "seam  -  0.023203040558877033\n",
      "extra  -  0.023203040558877033\n",
      "role  -  0.011601520279438516\n",
      "player  -  0.011601520279438516\n",
      "innings  -  0.03480456083831555\n",
      "what  -  0.03480456083831555\n",
      "scored  -  0.023203040558877033\n",
      "from  -  0.011601520279438516\n",
      "till  -  0.011601520279438516\n",
      "matches  -  0.011601520279438516\n",
      "pressure  -  0.011601520279438516\n",
      "feel  -  0.011601520279438516\n",
      "days  -  0.011601520279438516\n",
      "growing  -  0.011601520279438516\n",
      "century  -  0.011601520279438516\n",
      "scoring  -  0.011601520279438516\n",
      "show  -  0.011601520279438516\n",
      "gabbar  -  0.03480456083831555\n",
      "found  -  0.011601520279438516\n",
      "should  -  0.046406081117754065\n",
      "injury  -  0.011601520279438516\n",
      "serious  -  0.011601520279438516\n",
      "since  -  0.011601520279438516\n",
      "pandya  -  0.011601520279438516\n",
      "world  -  0.03480456083831555\n",
      "time  -  0.03480456083831555\n",
      "runs  -  0.011601520279438516\n",
      "this  -  0.046406081117754065\n",
      "instead  -  0.011601520279438516\n",
      "stop  -  0.011601520279438516\n",
      "crowd  -  0.03480456083831555\n",
      "when  -  0.011601520279438516\n",
      "remember  -  0.023203040558877033\n",
      "match  -  0.011601520279438516\n",
      "second  -  0.011601520279438516\n",
      "dhoni  -  0.08121064195606961\n",
      "gloves  -  0.011601520279438516\n",
      "change  -  0.011601520279438516\n",
      "tour  -  0.011601520279438516\n",
      "india  -  0.11601520279438515\n",
      "with  -  0.011601520279438516\n",
      "feels  -  0.011601520279438516\n",
      "defeat  -  0.023203040558877033\n",
      "performance  -  0.023203040558877033\n",
      "team  -  0.058007601397192576\n",
      "indian  -  0.023203040558877033\n",
      "better  -  0.011601520279438516\n",
      "nothing  -  0.011601520279438516\n",
      "starc  -  0.011601520279438516\n",
      "waiting  -  0.023203040558877033\n",
      "mayank  -  0.011601520279438516\n",
      "australia  -  0.1508197636327007\n",
      "test  -  0.0696091216766311\n",
      "opener  -  0.058007601397192576\n",
      "rather  -  0.023203040558877033\n",
      "would  -  0.046406081117754065\n",
      "kohli  -  0.0696091216766311\n",
      "virat  -  0.046406081117754065\n",
      "rahul  -  0.058007601397192576\n",
      "aggressive  -  0.023203040558877033\n",
      "want  -  0.023203040558877033\n",
      "coming  -  0.011601520279438516\n",
      "even  -  0.011601520279438516\n",
      "easily  -  0.011601520279438516\n",
      "like  -  0.011601520279438516\n",
      "make  -  0.011601520279438516\n",
      "look  -  0.023203040558877033\n",
      "just  -  0.011601520279438516\n",
      "back  -  0.046406081117754065\n",
      "really  -  0.03480456083831555\n",
      "great  -  0.03480456083831555\n",
      "year  -  0.08121064195606961\n",
      "spin  -  0.046406081117754065\n",
      "last  -  0.046406081117754065\n",
      "wicketkeeper  -  0.023203040558877033\n",
      "cricket  -  0.058007601397192576\n",
      "dravid  -  0.046406081117754065\n",
      "series  -  0.09281216223550813\n",
      "upcoming  -  0.03480456083831555\n",
      "https  -  0.34804560838315546\n",
      "banter  -  0.011601520279438516\n",
      "feeling  -  0.011601520279438516\n",
      "getting  -  0.011601520279438516\n",
      "trying  -  0.011601520279438516\n"
     ]
    }
   ],
   "source": [
    "tfidfwords = []\n",
    "feature_names = tfidf.get_feature_names()\n",
    "for col in response.nonzero()[1]:\n",
    "    if not feature_names[col].isdigit() and len(feature_names[col]) > 3 and int((response[0, col]) * 100) % 10 != 0:\n",
    "        print (feature_names[col], ' - ', response[0, col])\n",
    "        tfidfwords.append(feature_names[col])"
   ]
  },
  {
   "cell_type": "code",
   "execution_count": 15,
   "metadata": {},
   "outputs": [
    {
     "name": "stdout",
     "output_type": "stream",
     "text": [
      "Fans Mostly discussed about :  ['rock', 'irritating', 'starting', 'news', 'good', 'finally', 'mylovevirat18', 'masterclass', 'desertstorm', 'best']\n"
     ]
    }
   ],
   "source": [
    "print(\"Fans Mostly discussed about : \",tfidfwords[:10])"
   ]
  },
  {
   "cell_type": "code",
   "execution_count": null,
   "metadata": {},
   "outputs": [],
   "source": []
  },
  {
   "cell_type": "code",
   "execution_count": null,
   "metadata": {},
   "outputs": [],
   "source": [
    "#combining the reddit & twitter data for retrieving key comments\n",
    "finaldataset = twitterdata + redditdata\n",
    "print(finaldataset)"
   ]
  },
  {
   "cell_type": "code",
   "execution_count": null,
   "metadata": {},
   "outputs": [],
   "source": [
    "re.findall(r\"([^.]*?kohli[^.]*\\.)\",finaldataset)"
   ]
  },
  {
   "cell_type": "markdown",
   "metadata": {},
   "source": [
    "## Applying K-Means Clustering on Dataset"
   ]
  },
  {
   "cell_type": "code",
   "execution_count": 10,
   "metadata": {},
   "outputs": [],
   "source": [
    "from sklearn.feature_extraction.text import TfidfVectorizer\n",
    "from sklearn.cluster import KMeans\n",
    "import numpy as np\n",
    "import pandas as pd"
   ]
  },
  {
   "cell_type": "code",
   "execution_count": 11,
   "metadata": {},
   "outputs": [],
   "source": [
    "finaldatatext = tw + fw"
   ]
  },
  {
   "cell_type": "code",
   "execution_count": 12,
   "metadata": {},
   "outputs": [],
   "source": [
    "vectorizer = TfidfVectorizer(stop_words='english')\n",
    "X = vectorizer.fit_transform(finaldatatext)"
   ]
  },
  {
   "cell_type": "code",
   "execution_count": 13,
   "metadata": {},
   "outputs": [
    {
     "data": {
      "text/plain": [
       "KMeans(algorithm='auto', copy_x=True, init='k-means++', max_iter=100,\n",
       "       n_clusters=3, n_init=1, n_jobs=None, precompute_distances='auto',\n",
       "       random_state=None, tol=0.0001, verbose=0)"
      ]
     },
     "execution_count": 13,
     "metadata": {},
     "output_type": "execute_result"
    }
   ],
   "source": [
    "true_k = 3\n",
    "model = KMeans(n_clusters=true_k, init='k-means++', max_iter=100, n_init=1)\n",
    "model.fit(X)"
   ]
  },
  {
   "cell_type": "code",
   "execution_count": 14,
   "metadata": {},
   "outputs": [],
   "source": [
    "order_centroids = model.cluster_centers_.argsort()[:, ::-1]\n",
    "terms = vectorizer.get_feature_names()\n",
    "#type(order_centroids)"
   ]
  },
  {
   "cell_type": "code",
   "execution_count": 55,
   "metadata": {},
   "outputs": [
    {
     "name": "stdout",
     "output_type": "stream",
     "text": [
      "['\\nCluster 0:', 'need', 'zize6kysq2', 'fleming', 'finale', 'finally', 'finals', 'fined', 'finisher', 'firepower', 'fit', 'fitness', 'flaw', 'flaws', 'flexibility', 'ground', 'fluffed', 'fluke', 'fn0uegxgss', 'focussed', 'foot', 'forget', 'forgot', 'form', 'format', 'forward', 'fought', 'final', 'filter', 'figures', 'fight', 'fascinating', 'fashioned', 'fast', 'fastest', 'fat', 'fatigue', 'fault', 'fav', 'featured', 'feel', 'feeling', 'feels', 'fees', 'feet', 'felt', 'ferguson', 'fewest', 'ffc4pfbvfr', 'ffs', 'field', 'fielder', 'fielders', 'fielding', 'fow', 'fow_hundreds', 'frame', 'gingers', 'gives', 'giving', 'glad', 'glenn', 'gloves', 'god', 'gods', 'goes', 'going', 'gois', 'gon', 'gone', 'good', 'got', 'grand', 'grandhomme', 'grandmom', 'grandpa', 'grass', 'great', 'greatest', 'greatness', 'greig', 'given', 'gill', 'frankly', 'giddy', 'free', 'frontline', 'fuc', 'fuck', 'fuckboi', 'fucking', 'fulfilling', 'future', 'gaandu', 'gabbar', 'gajal_dalmia', 'gambhir', 'game', 'gand', 'gangsta', 'geez', 'gem', 'genius', 'genuinely', 'gets', 'getter', 'getting', 'giant', 'faridabad', 'fared', 'far', 'drive', 'drop', 'dropped', 'drowning', 'dube', 'dude', 'dumb', 'dumbass', 'duo', 'e3cli7hakf', 'e9fhdkxvvl', 'earlier', 'early', 'earned', 'easiest', 'easily', 'easy', 'economically', 'economy', 'edengarden', 'edge', 'edit', 'eeee', 'effective', 'drives', 'drift', 'elevated', 'dravid', 'dhoni', 'dicked', 'die', 'different', 'dinda', 'dirty', 'dismay', 'dismisses', 'dkkydajukl', 'dm', 'dna', 'does', 'dogshite', 'domestic', 'dominance', 'dong', 'dont', 'dorky', 'dot', 'doubt', 'dougie', 'doull', 'drama', 'el', 'embarrassed', 'fantastic', 'exciting', 'expect', 'expected', 'expensive', 'experience', 'experiment', 'explain', 'expression', 'extent', 'extra', 'extremely', 'faafda', 'face', 'facebook', 'factor', 'fail', 'failures', 'fairness', 'fall', 'fallen', 'falling', 'famous', 'fan', 'fans', 'exists', 'excited', 'embarrassing', 'excellent', 'embodies', 'embodiment', 'encounter', 'end', 'ended', 'endless', 'ends', 'eng', 'enganged', 'engine', 'england', 'englands', 'english', 'ensured', 'enter', 'entire', 'entirely', 'epic', 'er', 'especially', 'espncricinfo', 'eternity', 'exactly', 'grind', 'groupby', 'lathams', 'ish', 'isntbeven', 'itgdsports', 'iyer', 'jadav', 'jaddu', 'jadeja', 'jadhav', 'jaegi', 'james', 'jamieson', 'jamison', 'jason', 'jaws', 'jeetan', 'jerk', 'jinx', 'jinxed', 'job', 'jogged', 'joginder', 'joke', 'jokes', 'june', 'ishant', 'irritating', 'kane', 'irrespective', 'indiayouloser', 'indication', 'indies', 'individual', 'indvaus', 'indvsaus', 'indvspak', 'injury', 'inki', 'innate', 'inning', 'innings', 'inside', 'inspecting', 'instead', 'intent', 'interesting', 'international', 'interview', 'interviews', 'intl', 'invested', 'ipl', 'just', 'kanes', 'indias', 'kl', 'klrahul', 'knee', 'knew', 'knock', 'know', 'knowing', 'known', 'knuckleball', 'koach', 'kohli', 'kohllapse', 'kolkata', 'kudos', 'kumar', 'kyle', 'lack', 'lackluster', 'lad', 'lady', 'language', 'lanka', 'laps', 'lassi', 'klpd', 'kkriders', 'kannada', 'kiwis', 'kannadigas', 'kanos', 'kanpur', 'karnataka', 'karun', 'kedalitharan', 'kedar', 'keeping', 'keeps', 'keheleng', 'kept', 'khakra', 'khaleel', 'khalifa', 'kholi', 'khrriya', 'kid', 'kidhar', 'kids', 'kill', 'kind', 'kitchen', 'kiwi', 'indiavsaustralia', 'indians', 'grow', 'hardik', 'hat', 'hate', 'hating', 'hatrick', 'hayden', 'head', 'heads', 'hear', 'heard', 'heart', 'hell', 'help', 'henry', 'heres', 'hes', 'hi', 'hiccups', 'higher', 'highest', 'highlights', 'highly', 'hit', 'hitter', 'hardikpandya7', 'hard', 'hold', 'happybirthday', 'growing', 'grows', 'gully', 'gun', 'guppy', 'guptil', 'guptill', 'guy', 'guys', 'h33qfkeafq', 'hahaha', 'hairy', 'haktda', 'half', 'hand', 'handed', 'handful', 'handles', 'hands', 'handsome', 'happened', 'happens', 'happy', 'hitting', 'holding', 'indian', 'hyped', 'ian', 'idea', 'idiot', 'idk', 'imagine', 'imagined', 'imagining', 'imkuldeep18', 'implicating', 'importance', 'important', 'improved', 'imvkohli', 'incident', 'include', 'including', 'incoming', 'increase', 'incredible', 'incredibly', 'ind', 'index', 'india', 'i9gsmw91em', 'huss', 'holeing', 'hurts', 'holy', 'home', 'honestly', 'honesty', 'honour', 'hoon', 'hope', 'hopefully', 'hopes', 'hoping', 'horn', 'hotstar', 'housefull', 'howard', 'html', 'http', 'https', 'hudagaru', 'huge', 'human', 'humbleness', 'hunt', 'hurting', 'dhokla', 'dhawan', 'deta', 'bases', 'basically', 'basin', 'bat', 'bats', 'batsman', 'batsmen', 'battered', 'batting', 'battles', 'bcci', 'beat', 'bed', 'beginning', 'believe', 'belting', 'ben', 'benet', 'bengaluru', 'bennet', 'bennett', 'bespectacled', 'best', 'bet', 'basher', 'based', 'bewda', 'barely', 'averaged', 'averages', 'avg', 'awaited', 'award', 'away', 'awe', 'awesome', 'awful', 'azharuddin', 'baboon', 'baby', 'backfire', 'backs', 'backup', 'bad', 'bah', 'balanced', 'ball', 'balls', 'bangladesh', 'bank', 'banter', 'better', 'bhai', 'available', 'boner', 'book', 'boomer', 'booth', 'bored', 'boss', 'bothered', 'bought', 'boult', 'bounce', 'bouncer', 'bouncers', 'bound', 'boundaries', 'bowl', 'bowled', 'bowler', 'bowlers', 'bowling', 'bowls', 'box', 'boy', 'boys', 'bradman', 'booing', 'bollywood', 'bhai_saheb', 'bold', 'bhenchod', 'bhogleharsha', 'bhuvi', 'bias', 'big', 'biggest', 'bilateral', 'billion', 'binny', 'bird', 'birthday', 'bishnoi', 'bit', 'bitch', 'bitches', 'black', 'blade', 'blind', 'bloke', 'bodes', 'boi', 'boiiiiiiiiiiiii', 'bois', 'average', 'australian', 'brainwashed', '8deubtt09v', 'aaronfinch5', 'abandoned', 'able', 'absence', 'absolute', 'absolutely', 'acceleration', 'accent', 'accurate', 'achievable', 'activated', 'actually', 'adamant', 'add', 'advanced', 'advantage', 'aesthetically', 'afghanistan', 'africa', 'afridi', 'agarw', 'agarwal', 'agent', '8th', '7io2ng2rmd', 'aggression', '6th', '100s', '120s', '130s', '140km', '150kph', '15bfeqj1kl', '1st', '20s', '2nd', '30s', '30th', '37th', '3rd', '40s', '42nd', '46th', '4d', '4lrveojo9f', '4th', '50s', '5rsmmaj3sj', '5th', '6s', 'aggarwal', 'aggressive', 'australia', 'applying', 'archer', 'arm', 'armchair', 'arrives', 'ashes', 'ashwin', 'asia', 'asked', 'asset', 'asshole', 'assuming', 'assumption', 'astle', 'ath', 'atleast', 'attack', 'attempt', 'attention', 'audit', 'auditors', 'aur', 'aus', 'aussies', 'appreciating', 'apparently', 'aggressively', 'apologize', 'ago', 'ah', 'ahead', 'aiajk19hos', 'aight', 'aim', 'ajinkyarahane88', 'aklive', 'alert', 'alive', 'allrounders', 'alright', 'amazing', 'ambati', 'ameetasinh', 'amenners', 'ancient', 'anderson', 'anilkumble1074', 'anticipation', 'anymore', 'anyways', 'apart', 'brain', 'brand', 'destructive', 'contribution', 'conversation', 'corner', 'coughing', 'counter', 'countries', 'country', 'county', 'couple', 'covers', 'cowards', 'cracking', 'crap', 'crease', 'credit', 'cricalytics', 'cricbuzz', 'cricinfo', 'cricket', 'cricketer', 'cricketers', 'cricketnews', 'cricketnext', 'crickets', 'control', 'contract', 'critics', 'continuous', 'compared', 'competition', 'competitive', 'complete', 'completely', 'completes', 'concede', 'concentration', 'concerns', 'conditions', 'confident', 'confirmed', 'confuse', 'confused', 'confusing', 'congrats', 'consecutive', 'considering', 'consistency', 'continent', 'continue', 'continues', 'continuing', 'crictracker', 'crowd', 'committing', 'decent', 'decision', 'declare', 'def', 'defeat', 'defeated', 'defensive', 'definitely', 'deleted', 'deliver', 'delivery', 'demoted', 'department', 'dependable', 'depression', 'desert', 'desertstorm', 'deserve', 'deserves', 'desi', 'desperately', 'despite', 'destroyed', 'destroying', 'decided', 'debates', 'crying', 'deba', 'cummins', 'cunt', 'cup', 'current', 'currently', 'curse', 'cut', 'cuz', 'cwc', 'cwc15', 'cwc19', 'daddy', 'dafuq', 'dammm', 'damn', 'damngood', 'dancing', 'day', 'days', 'dead', 'deal', 'dealt', 'death', 'comms', 'commiserations', 'break', 'cap', 'capitalize', 'caps', 'captain', 'captaincy', 'captaining', 'captainship', 'career', 'carried', 'carry', 'case', 'casual', 'casually', 'catch', 'catching', 'caught', 'cause', 'cdg', 'cdgs', 'centuries', 'century', 'chad', 'chahal', 'championship', 'capable', 'campaign', 'chances', 'cameo', 'brendan', 'brendon', 'brilliant', 'bring', 'bringing', 'bro', 'bros', 'brought', 'bruh', 'brutal', 'btw', 'build', 'building', 'bullshit', 'bully', 'bumrah', 'busy', 'ca', 'called', 'calling', 'calls', 'calm', 'came', 'chance', 'change', 'comments', 'clearing', 'clinical', 'close', 'club', 'coach', 'coffee', 'col', 'coli', 'colin', 'colins', 'collapse', 'colleagues', 'com', 'combined', 'come', 'comeback', 'comes', 'comfortable', 'coming', 'comm', 'comment', 'commentary', 'commentator', 'commentators', 'clearly', 'clean', 'chanting', 'classy', 'chappell', 'charm', 'chase', 'chasing', 'cheap', 'cheaply', 'chess', 'child', 'chill', 'chinaswamy', 'chitting', 'choice', 'chokers', 'choking', 'chose', 'christ', 'churn', 'ci', 'circuits', 'citizenship', 'claim', 'clarity', 'class', 'latham', 'laughing', 'zimbabwe', 'standard', 'star', 'starc', 'starsportsindia', 'start', 'started', 'starting', 'starts', 'stat', 'stats', 'stay', 'steadied', 'steadying', 'stealing', 'steel', 'stepping', 'steve', 'sticking', 'stone', 'stop', 'storm', 'straight', 'strategy', 'streak', 'stands', 'stand', 'strike', 'stance', 'southee', 'spanking', 'spanner', 'spare', 'speaking', 'speaks', 'spearhead', 'species', 'specifically', 'spell', 'spin', 'spinner', 'spinning', 'spirit', 'sponsoring', 'sport', 'sportsflashes', 'spud', 'spxvp3dahv', 'squad', 'sri', 'stadium', 'stag', 'strength', 'striking', 'source', 'surreal', 'swear', 'sweep', 'sweet', 'swing', 'swinging', 'syllabus', 't20', 't20s', 't20wc', 't20wc2016', 't20worldcup', 'ta', 'tag', 'tak', 'taken', 'taker', 'takes', 'taketh', 'taking', 'talent', 'talk', 'talking', 'talks', 'suspicion', 'surprised', 'stronger', 'surely', 'struggling', 'stuck', 'stuff', 'stump', 'stumps', 'style', 'stylish', 'sub', 'subject', 'success', 'successful', 'suicidal', 'sujoybarg07', 'summarized', 'summer', 'sunglasses', 'sunny', 'super', 'superover', 'support', 'supporter', 'supreme', 'sure', 'south', 'soul', 'tape', 'set', 'shahid', 'shake', 'shakes', 'shami', 'shankar', 'shardul', 'sharma', 'shashankv76', 'shastri', 'shaw', 'shifted', 'ship', 'shipped', 'shit', 'shitfest', 'shitting', 'shivam', 'shocking', 'sholay', 'shoot', 'short', 'shot', 'shots', 'sexy', 'serve', 'showing', 'series', 'scored', 'scoreline', 'scorer', 'scorers', 'scores', 'scoring', 'scotty', 'seam', 'second', 'seeing', 'seemingly', 'seen', 'sehawag', 'sehwag', 'select', 'selected', 'selecting', 'selection', 'selectors', 'sena', 'send', 'sense', 'sensible', 'showed', 'shows', 'sort', 'slides', 'slog', 'slot', 'slow', 'slower', 'smaller', 'smart', 'smash', 'smashing', 'smiling', 'smith', 'smithy', 'smoking', 'sneaked', 'sneakily', 'sodhi', 'sohdi', 'sold', 'solid', 'somethings', 'somewhat', 'soon', 'sorrows', 'sorry', 'slight', 'sledging', 'shreyas', 'sledge', 'shubmangill', 'sick', 'sign', 'silly', 'silver', 'sim2izgfr5', 'simmons', 'simon', 'singh', 'single', 'singles', 'sink', 'sir', 'siraj', 'sister', 'situation', 'situations', 'sixes', 'skills', 'skin', 'sky', 'sl', 'slander', 'tall', 'task', 'scooby', 'warm', 'washout', 'waste', 'watch', 'watched', 'watches', 'watching', 'watling', 'way', 'wc', 'weakness', 'welcome', 'went', 'west', 'whatnot', 'whatsapp', 'whine', 'whisky', 'whitewash', 'whitewashed', 'wi', 'wicket', 'wicketkeeper', 'wickets', 'warned', 'wants', 'williamson', 'want', 'vada', 'valuable', 'value', 'various', 've', 'verbal', 'version', 'vettori', 'victory', 'video', 'vijay', 'village', 'vinay', 'virat', 'virgin', 'vlp1994', 'vs', 'vvslaxman281', 'wade', 'wagner', 'wait', 'waiting', 'wakes', 'wife', 'win', 'use', 'wtf', 'wyb', 'wyb2p72il2', 'x200b', 'xi', 'y24m8jiebj', 'yeah', 'year', 'years', 'yep', 'yer', 'yes', 'yjvijzgbuh', 'yo', 'york', 'yorker', 'young', 'younger', 'youth', 'ysjagan', 'yuvraj', 'yvbusxncqk', 'zealand', 'zim', 'www', 'wt20', 'windies', 'wright', 'winning', 'wise', 'wish', 'wishing', 'wk', 'wks', 'wo', 'wolowitz', 'women', 'wonder', 'wonderfully', 'wont', 'words', 'work', 'working', 'workload', 'world', 'worried', 'worse', 'worst', 'worth', 'wow', 'wracking', 'using', 'ups', 'taste', 'thankyou', 'thicc', 'thing', 'thingee', 'things', 'thingy', 'think', 'thinking', 'thoons', 'thread', 'threat', 'threatened', 'thriller', 'thrown', 'throws', 'til', 'till', 'time', 'times', 'tint', 'tired', 'today', 'toes', 'toll', 'thejinxyyyy', 'thanks', 'ton', 'thank', 'tasty', 'taunton', 'taylor', 'tbh', 'teach', 'team', 'teamindia', 'teams', 'tearing', 'tell', 'telling', 'template', 'tempo', 'tendulkar', 'terrific', 'test', 'testcricket', 'testing', 'tests', 'text', 'tf', 'thakur', 'thakurs', 'tom', 'tonight', 'upholding', 'turning', 'tweets', 'twist', 'twitter', 'tye', 'tying', 'type', 'tzfnxd8qwx', 'ug6ctfgg8u', 'ump', 'unamed', 'undeniable', 'understand', 'unhappy', 'unit', 'unleashthequiche', 'unless', 'unlike', 'unlucky', 'unofficial', 'unprecedented', 'unsual', 'upcoming', 'uphold', 'tv', 'turned', 'tony', 'tuned', 'took', 'topic', 'toss', 'totally', 'touch', 'tour', 'tournament', 'track', 'tracked', 'trademark', 'training', 'trainings', 'trapped', 'trash', 'travesty', 'treat', 'trick', 'tries', 'trophy', 'true', 'trust', 'trustworthy', 'trying', 'score', 'school', 'law', 'named', 'nanobots', 'nationalistic', 'nations', 'near', 'neck', 'needed', 'needing', 'needs', 'neesh', 'neeshaammm', 'neesham', 'nerd', 'nerds', 'nerve', 'nerves', 'nesham', 'new', 'newbie', 'news', 'ngl', 'nice', 'nicholas', 'nicholls', 'namma', 'nair', 'nips', 'nah', 'minnow', 'minutes', 'misjudge', 'miss', 'misses', 'missing', 'mistake', 'mitch', 'mode', 'moment', 'months', 'mount', 'mouth', 'movie', 'ms', 'mum', 'munro', 'muppets', 'murali', 'murder', 'mylovevirat18', 'na', 'nagpur', 'night', 'noises', 'mind', 'opportunities', 'opposite', 'opposition', 'option', 'oram', 'orange', 'order', 'orderby', 'orderbyad', 'origin', 'outdated', 'outplayed', 'outside', 'overall', 'overhauled', 'overrated', 'overs', 'paav', 'pace', 'packing', 'packs', 'paid', 'pair', 'pak', 'opportunity', 'opening', 'non', 'openers', 'nonsense', 'normal', 'nostalgia', 'npcs', 'number', 'nutted', 'nz', 'oc6ccelfjj', 'odi', 'odis', 'odu', 'office', 'official', 'oh', 'ok', 'old', 'older', 'omnipresent', 'onthisdate', 'onthisday', 'open', 'opened', 'opener', 'minimal', 'middle', 'panchods', 'line', 'lips', 'listen', 'literally', 'little', 'll', 'lmao', 'lmfao', 'loi', 'lois', 'lol', 'long', 'look', 'looked', 'looking', 'looks', 'loosing', 'lord', 'lords', 'lordship', 'lose', 'losing', 'loss', 'losses', 'linings', 'limited', 'lot', 'likes', 'lawyer', 'laxman', 'le', 'leadership', 'learned', 'learns', 'leave', 'left', 'legal', 'legend', 'legit', 'length', 'lengths', 'let', 'letting', 'level', 'levels', 'levers', 'licks', 'life', 'lift', 'like', 'liked', 'lost', 'love', 'mid', 'masterclass', 'matches', 'matter', 'matthew', 'matthewwade', 'maukamauka', 'maunganui', 'max', 'maxwell', 'mayan', 'mayank', 'mayanti', 'mccullum', 'mclarke23', 'mean', 'meaning', 'means', 'meantime', 'mediocre', 'mellon', 'memes', 'mention', 'mia', 'mics', 'match', 'master', 'loves', 'martin', 'low', 'lower', 'lowest', 'luck', 'macca', 'mad', 'madarchod', 'maga', 'magic', 'magnificent', 'main', 'make', 'makes', 'making', 'man', 'managed', 'management', 'manager', 'manages', 'mangalore', 'manish', 'marillier', 'marquee', 'pakistan', 'pandey', 'scg', 'relevant', 'relivethemoment', 'remarkable', 'remarks', 'remember', 'reminds', 'replace', 'replay', 'reputation', 'reserve', 'reset', 'respect', 'respectable', 'rest', 'restless', 'restrained', 'results', 'retire', 'retired', 'return', 'returns', 'reveals', 'revenge', 'reverse', 'reliable', 'released', 'rid', 'relaxed', 'ravi', 'rayudu', 'rcb', 'reactionary', 'read', 'real', 'reality', 'realize', 'really', 'reassuring', 'recent', 'reckon', 'recognises', 'recovering', 'recovery', 'red', 'referee', 'reflection', 'refusal', 'refuse', 'refusing', 'regardless', 'reincarnated', 'rhythm', 'ridanajamkhan', 'rant', 'rubber', 'ruining', 'run', 'runners', 'running', 'runout', 'runs', 'sa', 'sachin', 'sachin_rt', 'sad', 'safe', 'said', 'saini', 'sake', 'sanju', 'santner', 'sasural', 'saving', 'saw', 'say', 'saying', 'says', 'scary', 'rubbish', 'rt', 'ridiculous', 'rsa', 'right', 'rip', 'rishab', 'rishabh', 'rn', 'road', 'robots', 'rock', 'rohit', 'rohitsharma', 'role', 'roots', 'rope', 'ross', 'rotate', 'rotation', 'rounder', 'rounders', 'row', 'roy', 'royal', 'rp2utl9zja', 'rr', 'rate', 'raina', 'pandya', 'performances', 'persists', 'phirse', 'phone', 'physically', 'pic', 'pick', 'picking', 'picnic', 'pictures', 'pig2', 'pinch', 'piss', 'pitch', 'place', 'plan', 'play', 'played', 'player', 'players', 'playing', 'plays', 'pleasing', 'plot', 'performing', 'performance', 'point', 'perform', 'pant', 'panty', 'papi', 'par', 'parents', 'parody', 'partnership', 'partnership_wicket', 'partnership_wicketmax1', 'partnership_wicketmin1', 'partnership_wicketval1', 'partnerships', 'past', 'pasting', 'patch', 'patel', 'pattern', 'pay', 'peach', 'pecking', 'peers', 'people', 'perfectly', 'plus', 'pool', 'rahuldravid', 'promote', 'proper', 'props', 'prospect', 'protagonist', 'proud', 'proved', 'ptsd', 'pulling', 'punishment', 'punjabi', 'pure', 'purple', 'push', 'pushing', 'quality', 'qualmin1', 'qualval1', 'quarters', 'questions', 'quite', 'qygtvianxs', 'raging', 'rahul', 'proof', 'promo', 'poor', 'promise', 'poorly', 'position', 'posititon', 'positives', 'possible', 'post', 'posted', 'potential', 'powerful', 'practice', 'praise', 'praising', 'praying', 'precedent', 'predict', 'predictability', 'preparation', 'pressure', 'pretty', 'prisoners', 'prithvi', 'prithvishaw', 'probably', '100plus', '\\nCluster 1:', 'india', 'series', 'nz', 'kohli', 'like', 'good', 'thakur', 'rahul', 'saini', 'https', 'rt', 'indvsaus', 'cricket', 'bowling', 'wickets', 'ball', 'odi', 'kl', 'bumrah', 'time', 'test', 'iyer', 'indian', 'cdg', 'game', 'innings', 'match', 'got', 'really', 'odis', 'colin', 'jadeja', 'new', 'virat', 'dhoni', 'order', 'big', 'playing', 'runs', 'better', 'great', 'think', 'australia', 'jamieson', 'overs', 'hit', 'fuck', 'middle', 'pant', 'vs', 'batting', 'southee', 'shardul', 'lol', 'form', 'lord', 'fucking', 'wicket', 'run', 'score', 'world', 'pandey', 'day', 'shit', 'guptill', 'looks', 'average', 'getting', 'strike', 'going', 've', 'right', 'today', 'batsman', 'century', 'bat', 'bad', 'dravid', 'cup', 'pandya', 'shaw', 'zealand', 'make', 'feel', 'year', 'opening', 'grandhomme', 'neesham', 'hope', 'stop', 'man', 'way', 'played', 't20', 'kid', 'opener', 'bowlers', 'bowler', 'matches', 'gets', 'ca', 'come', 'people', 'spin', 'balls', 'play', 'feels', 'look', 'best', 'rohit', 'll', 'know', 'interesting', 'oh', 'end', 'away', 'scores', 'source', 'na', 'chahal', 'latham', 'gon', 'want', 'watching', 'years', 'imagine', 'finally', 'tests', 'ridanajamkhan', 'bowls', 'neesh', 'hell', 'commentary', 'boys', 'attack', 'running', 'easily', 'kiwis', 'cwc15', 'indiayouloser', 'chance', 'players', 'shreyas', 'maukamauka', 'wtf', 'lmao', 'guy', 'whitewash', 'start', 'rate', 'taylor', 'santner', 'bring', 'crowd', 'probably', 'super', 'sure', 'long', 'hand', 'dead', '4th', 'win', 'option', 'international', 'lose', 'shots', 'let', 'batsmen', 'face', 'player', 'kane', 'return', 'backup', 'guys', 'tour', 'trying', 'scoring', 'wish', 'free', 'taking', 'remember', 'aus', 'cricalytics', 'ian', 'second', 'work', 'life', 'wait', 'yuvraj', 'england', 'edit', 'coming', 'gabbar', 'say', 'sport', 'winning', 'scored', 'mayank', 'dhawan', 'needed', 'boult', 'manish', 'losing', 'sub', 'wc', 'nice', 'bennett', 'seam', 'bowl', 'economy', 'love', 'bowled', 'eng', 'misses', 'jadhav', 'bro', 'selected', 'change', 'god', 'june', 'just', 'happy', 'thread', 'kedar', 'klrahul', 'pretty', 'rounder', 'upcoming', 'shot', 'damn', 'rotate', 'rubber', 'ross', 'hard', 'rishabh', 'worst', 'captain', 'left', 'poor', 'country', 'ok', 'itgdsports', 'performance', 'col', 'calling', 'missing', 'wo', 'mistake', 'sehwag', 'despite', 'mount', 'cwc19', 'performances', 'needs', 'ms', 'highest', 'cwc', 'set', 'partnership', 'pace', 'cunt', 'nah', 'defeat', 'deleted', 'women', 'given', 'old', 'miss', 'career', 'slow', 'sky', '5th', 'skills', 'read', 'seen', 'box', 'brilliant', 'sir', 'smith', 'bros', 'overrated', 'gill', 'opportunity', 'single', 'death', 'sodhi', 'build', 'cricbuzz', 'solid', 'outside', 'shubmangill', 'overall', 'showing', 'defeated', 'open', 'marquee', 'says', 'aggressive', 'gully', 'thinking', 'ahead', 'continues', 'things', 'ind', 'expected', 'final', 'excellent', 'victory', 'wade', 'point', 'tell', 'selectors', 'sa', 'dont', 'agarwal', 'letting', 'line', 'takes', 'chase', 'punjabi', 'rounders', 'fielding', 'inning', 'apart', 'twitter', 'feeling', 'field', 'amazing', 'injury', 'coach', 'fat', 'prithvishaw', 'tries', 'fast', 'rohitsharma', 'kannada', 'kanos', 'karnataka', 'pressure', 'extra', 'kiwi', 'taken', 'imvkohli', 'waiting', 'dube', 'makes', 'future', 'wi', 'actually', 'management', 'stumps', 'home', 'hoping', 'drift', 'matter', 't20s', 'bhuvi', 'bilateral', 'matthew', 'doull', 'wicketkeeper', 'means', 'commentators', 'mention', 'quite', 'looking', 'watch', 'starts', 'maunganui', 'bit', 'said', '100s', 'lost', 'piss', 'comment', 'realize', 'performing', 'confirmed', 'pinch', 'place', 'picking', 'congrats', 'concerns', 'pitch', 'reckon', 'recent', 'praying', 'consecutive', 'comes', 'comments', 'plays', 'comms', 'real', 'quality', 'commentator', 'compared', 'rcb', 'competitive', 'possible', 'com', 'crease', 'post', 'prospect', 'continue', 'comm', 'crap', 'raina', 'proud', 'pick', 'considering', 'proof', 'duo', 'cricketer', 'fit', 'finisher', 'incoming', 'indians', 'indies', 'fielders', 'indvaus', 'fielder', 'inside', 'instead', 'interview', 'intl', 'ipl', 'fastest', 'jaws', 'fans', 'fan', 'keeping', 'keeps', 'failures', 'khaleel', 'kids', 'kill', 'klpd', 'important', 'idk', 'partnerships', 'foot', 'grandmom', 'grand', 'growing', 'guppy', 'hahaha', 'half', 'gloves', 'glad', 'happened', 'giving', 'hardik', 'hardikpandya7', 'giant', 'heard', 'genuinely', 'genius', 'hitter', 'holy', 'hopefully', 'horn', 'hotstar', 'forward', 'forgot', 'explain', 'knew', 'knock', 'experience', 'mid', 'mind', 'moment', 'months', 'movie', 'munro', 'dinda', 'nagpur', 'nanobots', 'needing', 'desi', 'deserves', 'news', 'nicholls', 'number', 'oc6ccelfjj', 'odu', 'opened', 'openers', 'days', 'paid', 'pak', 'currently', 'mediocre', 'mccullum', 'max', 'leadership', 'koach', 'kudos', 'kumar', 'kyle', 'lack', 'lanka', 'espncricinfo', 'zimbabwe', 'er', 'le', 'entire', 'matthewwade', 'english', 'legit', 'levers', 'little', 'loi', 'lot', 'lower', 'easy', 'main', 'making', 'collapse', 'zize6kysq2', 'coli', 'apologize', 'sledging', 'slower', 'smashing', 'boundaries', 'unit', 'unhappy', 'soon', 'sorry', 'sort', 'anymore', 'apparently', 'taste', 'turning', 'booth', 'arm', 'spinner', 'trophy', 'spinning', 'spirit', 'trick', 'ashwin', 'asia', 'sledge', 'aight', 'stand', 'short', 'sensible', 'wants', 'shami', 'wagner', 'shankar', 'vlp1994', 'shastri', 'calm', 'vinay', 'agent', 'showed', 'sl', 'shows', 'sick', 'brutal', 'bruh', 'singh', 'ah', 'brought', 'using', 'brendon', 'use', 'sri', 'track', 'send', 'swing', 'thingy', 'thingee', 'avg', 'thanks', 'believe', 'surely', 'surprised', 'swear', 'tf', 'sweep', 't20worldcup', 'sunglasses', 'bats', 'terrific', 'taketh', 'basically', 'backs', 'talk', 'bangladesh', 'tall', 'based', 'bank', 'averages', 'threatened', 'star', 'straight', 'starc', 'touch', 'starting', 'stats', 'birthday', 'bird', 'billion', 'stepping', 'biggest', 'stone', 'strategy', 'suicidal', 'ton', 'bhai_saheb', 'toes', 'stuff', 'stump', 'aussies', 'times', 'till', 'bewda', 'australian', 'sense', 'banter', 'went', 'choice', 'wonder', 'results', 'runout', 'clearly', 'row', 'west', 'replace', 'williamson', 'catch', 'chokers', 'chanting', 'wt20', 'rid', 'yes', 'clean', 'scg', 'chappell', 'whatsapp', 'saying', 'class', 'rip', 'remarks', 'sasural', 'rhythm', 'words', 'ysjagan', 'role', 'wise', 'select', 'remarkable', 'revenge', 'relevant', 'runners', 'zim', 'refusing', 'close', 'wyb', 'selection', 'activated', 'chasing', 'carry', 'attention', 'extremely', 'glenn', 'aur', '42nd', 'extent', 'auditors', '46th', 'audit', 'frame', 'gives', 'faafda', '4d', 'falling', 'assuming', 'fallen', 'assumption', 'fall', 'fairness', 'gingers', '6th', '6s', 'astle', '5rsmmaj3sj', 'ath', '50s', 'fail', 'factor', 'atleast', 'facebook', '4lrveojo9f', 'attempt', 'expression', 'experiment', 'gods', '130s', '150kph', 'exactly', 'eternity', 'awful', 'azharuddin', 'baboon', 'especially', '140km', 'epic', 'baby', '40s', 'backfire', 'entirely', '120s', 'enter', 'bah', 'ensured', 'balanced', 'grandpa', 'englands', '15bfeqj1kl', 'awesome', 'excited', 'exciting', '3rd', 'goes', '37th', 'available', '30th', 'gois', 'averaged', 'famous', '30s', 'expensive', '2nd', '20s', 'expect', 'awaited', 'award', '1st', 'awe', 'gone', 'exists', 'asshole', 'fascinating', 'asset', 'ago', 'firepower', 'fuc', 'fuckboi', 'aggarwal', 'accurate', 'fined', 'finals', 'aggression', 'aggressively', 'finale', 'accent', 'aklive', 'filter', 'fulfilling', 'aiajk19hos', 'acceleration', 'gaandu', 'absolutely', 'figures', 'fight', 'absolute', 'aim', 'frontline', 'agarw', 'fitness', 'flaw', 'fow_hundreds', 'fow', 'advantage', 'fought', 'aesthetically', 'format', 'advanced', 'afghanistan', 'forget', 'africa', 'focussed', 'fn0uegxgss', 'fluke', 'add', 'adamant', 'fluffed', 'flexibility', 'afridi', 'achievable', 'fleming', 'flaws', 'gajal_dalmia', 'alert', 'asked', 'arrives', 'applying', 'aaronfinch5', 'featured', 'fav', 'appreciating', 'archer', 'fault', 'fatigue', '8th', 'armchair', 'getter', 'alive', '8deubtt09v', 'fashioned', 'frankly', 'faridabad', 'fared', 'far', 'fantastic', 'ashes', '7io2ng2rmd', 'giddy', 'abandoned', 'able', 'anyways', 'fees', 'allrounders', 'absence', 'alright', 'gambhir', 'ambati', 'ffs', 'gand', 'ameetasinh', 'ffc4pfbvfr', 'amenners', 'fewest', 'ancient', 'anderson', 'gangsta', 'anilkumble1074', 'ferguson', 'anticipation', 'geez', 'felt', 'gem', 'feet', 'ajinkyarahane88', 'early', 'engine', 'captaincy', 'current', 'capable', 'capitalize', 'cummins', 'caps', 'crying', 'critics', 'crictracker', 'crickets', 'cricketnext', 'cricketnews', 'cricketers', 'cricinfo', 'curse', 'captaining', 'captainship', 'carried', 'credit', 'case', 'casual', 'casually', 'cracking', 'cowards', 'covers', 'catching', 'caught', 'cap', 'cut', 'enganged', 'building', 'declare', 'decision', 'decided', 'break', 'brendan', 'bringing', 'decent', 'debates', 'deba', 'dealt', 'deal', 'btw', 'bullshit', 'cuz', 'dancing', 'damngood', 'bully', 'busy', 'dammm', 'dafuq', 'called', 'daddy', 'calls', 'came', 'cameo', 'campaign', 'couple', 'cause', 'cdgs', 'ci', 'concentration', 'concede', 'completes', 'completely', 'complete', 'competition', 'choking', 'chose', 'committing', 'commiserations', 'christ', 'churn', 'circuits', 'centuries', 'citizenship', 'claim', 'clarity', 'classy', 'clearing', 'comfortable', 'clinical', 'comeback', 'club', 'combined', 'coffee', 'colleagues', 'conditions', 'confident', 'chitting', 'chinaswamy', 'chad', 'county', 'championship', 'countries', 'counter', 'coughing', 'corner', 'conversation', 'control', 'chances', 'contribution', 'contract', 'continuous', 'continuing', 'charm', 'continent', 'consistency', 'cheap', 'cheaply', 'chess', 'confusing', 'child', 'chill', 'confused', 'confuse', 'def', 'brand', 'brainwashed', 'bhai', 'earned', 'colins', 'earlier', 'e9fhdkxvvl', 'e3cli7hakf', 'bengaluru', 'bennet', 'bespectacled', 'bet', 'dumbass', 'dumb', 'dude', 'drowning', 'dorky', 'dropped', 'drop', 'bhenchod', 'bhogleharsha', 'bias', 'drives', 'drive', 'binny', 'drama', 'bishnoi', 'dougie', 'doubt', 'easiest', 'benet', 'ben', 'belting', 'barely', 'ends', 'bases', 'endless', 'ended', 'basher', 'encounter', 'embodiment', 'embodies', 'embarrassing', 'basin', 'embarrassed', 'elevated', 'battered', 'battles', 'el', 'bcci', 'effective', 'eeee', 'beat', 'bed', 'edge', 'edengarden', 'beginning', 'economically', 'dot', 'bitch', 'brain', 'bouncer', 'book', 'boomer', 'bored', 'destroying', 'boss', 'destroyed', 'bothered', 'desperately', 'bought', 'bounce', 'deserve', 'desertstorm', 'desert', 'bitches', 'depression', 'dependable', 'department', 'demoted', 'delivery', 'deliver', 'bouncers', 'definitely', 'bound', 'defensive', 'boy', 'bradman', 'destructive', 'deta', 'booing', 'dhokla', 'dong', 'dominance', 'domestic', 'dogshite', 'black', 'blade', 'blind', 'does', 'dna', 'bloke', 'bodes', 'dm', 'boi', 'boiiiiiiiiiiiii', 'dkkydajukl', 'bois', 'dismisses', 'dismay', 'dirty', 'bold', 'bollywood', 'different', 'die', 'dicked', 'boner', 'grass', 'laughing', 'greatest', 'greatness', 'sixes', 'skin', 'slander', 'slides', 'slight', 'slog', 'slot', 'smaller', 'smart', 'smash', 'smiling', 'smithy', 'smoking', 'sneaked', 'sneakily', 'sohdi', 'sold', 'situations', 'situation', 'sister', 'shoot', 'ship', 'shipped', 'shitfest', 'shitting', 'shivam', 'shocking', 'sholay', 'sign', 'siraj', 'silly', 'silver', 'sim2izgfr5', 'simmons', 'simon', 'singles', 'sink', 'somethings', 'somewhat', 'sorrows', 'steel', 'starsportsindia', 'started', 'stat', 'stay', 'steadied', 'steadying', 'stealing', 'steve', 'standard', 'sticking', 'storm', 'streak', 'strength', 'striking', 'stronger', 'struggling', 'stands', 'stance', 'soul', 'species', 'south', 'spanking', 'spanner', 'spare', 'speaking', 'speaks', 'spearhead', 'specifically', 'stag', 'spell', 'sponsoring', 'sportsflashes', 'spud', 'spxvp3dahv', 'squad', 'stadium', 'shifted', 'shashankv76', 'sharma', 'respectable', 'relivethemoment', 'reminds', 'replay', 'reputation', 'reserve', 'reset', 'respect', 'rest', 'released', 'restless', 'restrained', 'retire', 'retired', 'returns', 'reveals', 'reverse', 'reliable', 'relaxed', 'rishab', 'recognises', 'rahuldravid', 'rant', 'ravi', 'rayudu', 'reactionary', 'reality', 'reassuring', 'recovering', 'reincarnated', 'recovery', 'red', 'referee', 'reflection', 'refusal', 'refuse', 'regardless', 'ridiculous', 'rn', 'shakes', 'seeing', 'scary', 'school', 'scooby', 'scoreline', 'scorer', 'scorers', 'scotty', 'seemingly', 'saving', 'sehawag', 'selecting', 'sena', 'serve', 'sexy', 'shahid', 'shake', 'saw', 'sanju', 'road', 'rp2utl9zja', 'robots', 'rock', 'roots', 'rope', 'rotation', 'roy', 'royal', 'rr', 'sake', 'rsa', 'rubbish', 'ruining', 'sachin', 'sachin_rt', 'sad', 'safe', 'stuck', 'style', 'stylish', 'village', 'value', 'various', 'verbal', 'version', 'vettori', 'video', 'vijay', 'virgin', 'vada', 'vvslaxman281', 'wakes', 'warm', 'warned', 'washout', 'waste', 'watched', 'valuable', 'ups', 'watling', 'understand', 'tying', 'type', 'tzfnxd8qwx', 'ug6ctfgg8u', 'ump', 'unamed', 'undeniable', 'unleashthequiche', 'upholding', 'unless', 'unlike', 'unlucky', 'unofficial', 'unprecedented', 'unsual', 'uphold', 'watches', 'weakness', 'twist', 'yer', 'www', 'wyb2p72il2', 'x200b', 'xi', 'y24m8jiebj', 'yeah', 'yep', 'yjvijzgbuh', 'wracking', 'yo', 'york', 'yorker', 'young', 'younger', 'youth', 'yvbusxncqk', 'wright', 'wow', 'welcome', 'wk', 'whatnot', 'whine', 'whisky', 'whitewashed', 'wife', 'windies', 'wishing', 'wks', 'worth', 'wolowitz', 'wonderfully', 'wont', 'working', 'workload', 'worried', 'worse', 'tye', 'tweets', 'subject', 'taunton', 'taker', 'talent', 'talking', 'talks', 'tape', 'task', 'tasty', 'tbh', 'tag', 'teach', 'teamindia', 'teams', 'tearing', 'telling', 'template', 'tempo', 'tak', 'ta', 'testcricket', 'support', 'success', 'successful', 'sujoybarg07', 'summarized', 'summer', 'sunny', 'superover', 'supporter', 't20wc2016', 'supreme', 'surreal', 'suspicion', 'sweet', 'swinging', 'syllabus', 't20wc', 'tendulkar', 'testing', 'tv', 'trapped', 'toss', 'totally', 'tournament', 'tracked', 'trademark', 'training', 'trainings', 'trash', 'took', 'travesty', 'treat', 'true', 'trust', 'trustworthy', 'tuned', 'turned', 'topic', 'tony', 'text', 'threat', 'thakurs', 'thank', 'thankyou', 'thejinxyyyy', 'thicc', 'thing', 'thoons', 'thriller', 'tonight', 'thrown', 'throws', 'til', 'tint', 'tired', 'toll', 'tom', 'raging', 'qygtvianxs', 'questions', 'quarters', 'job', 'jogged', 'joginder', 'joke', 'jokes', 'kanes', 'kannadigas', 'kanpur', 'karun', 'kedalitharan', 'keheleng', 'kept', 'khakra', 'khalifa', 'kholi', 'khrriya', 'kidhar', 'jinxed', 'jinx', 'jerk', 'ish', 'innate', 'inspecting', 'intent', 'interviews', 'invested', 'irrespective', 'irritating', 'ishant', 'jeetan', 'isntbeven', 'jadav', 'jaddu', 'jaegi', 'james', 'jamison', 'jason', 'kind', 'kitchen', 'kkriders', 'likes', 'length', 'lengths', 'level', 'levels', 'licks', 'lift', 'liked', 'limited', 'legal', 'linings', 'lips', 'listen', 'literally', 'lmfao', 'lois', 'looked', 'legend', 'leave', 'knee', 'lady', 'knowing', 'known', 'knuckleball', 'kohllapse', 'kolkata', 'lackluster', 'lad', 'language', 'learns', 'laps', 'lassi', 'lathams', 'law', 'lawyer', 'laxman', 'learned', 'inki', 'indvspak', 'individual', 'help', 'hating', 'hatrick', 'hayden', 'head', 'heads', 'hear', 'heart', 'henry', 'hat', 'heres', 'hes', 'hi', 'hiccups', 'higher', 'highlights', 'highly', 'hate', 'happybirthday', 'hold', 'guptil', 'greig', 'grind', 'ground', 'groupby', 'grow', 'grows', 'gun', 'h33qfkeafq', 'happens', 'hairy', 'haktda', 'handed', 'handful', 'handles', 'hands', 'handsome', 'hitting', 'holding', 'indication', 'incident', 'idiot', 'imagined', 'imagining', 'imkuldeep18', 'implicating', 'importance', 'improved', 'include', 'i9gsmw91em', 'including', 'increase', 'incredible', 'incredibly', 'index', 'indias', 'indiavsaustralia', 'idea', 'hyped', 'holeing', 'html', 'honestly', 'honesty', 'honour', 'hoon', 'hopes', 'housefull', 'howard', 'http', 'huss', 'hudagaru', 'huge', 'human', 'humbleness', 'hunt', 'hurting', 'hurts', 'loosing', 'lords', 'lordship', 'loss', 'partnership_wicketval1', 'past', 'pasting', 'patch', 'patel', 'pattern', 'pay', 'peach', 'pecking', 'peers', 'perfectly', 'perform', 'persists', 'phirse', 'phone', 'physically', 'pic', 'partnership_wicketmin1', 'partnership_wicketmax1', 'partnership_wicket', 'packing', 'orderby', 'orderbyad', 'origin', 'outdated', 'outplayed', 'overhauled', 'paav', 'packs', 'parody', 'pair', 'pakistan', 'panchods', 'panty', 'papi', 'par', 'parents', 'picnic', 'pictures', 'pig2', 'ptsd', 'promise', 'promo', 'promote', 'proper', 'props', 'protagonist', 'proved', 'pulling', 'prisoners', 'punishment', 'pure', 'purple', 'push', 'pushing', 'qualmin1', 'qualval1', 'prithvi', 'preparation', 'plan', 'positives', 'pleasing', 'plot', 'plus', 'pool', 'poorly', 'position', 'posititon', 'posted', 'predictability', 'potential', 'powerful', 'practice', 'praise', 'praising', 'precedent', 'predict', 'orange', 'oram', 'opposition', 'memes', 'mayan', 'mayanti', 'mclarke23', 'mean', 'meaning', 'meantime', 'mellon', 'mia', 'masterclass', 'mics', 'minimal', 'minnow', 'minutes', 'misjudge', 'mitch', 'mode', 'maxwell', 'master', 'opposite', 'madarchod', 'losses', 'loves', 'low', 'lowest', 'luck', 'macca', 'mad', 'maga', 'martin', 'magic', 'magnificent', 'managed', 'manager', 'manages', 'mangalore', 'marillier', 'mouth', 'mum', 'muppets', 'npcs', 'night', 'nips', 'noises', 'non', 'nonsense', 'normal', 'nostalgia', 'nutted', 'ngl', 'office', 'official', 'older', 'omnipresent', 'onthisdate', 'onthisday', 'opportunities', 'nicholas', 'newbie', 'murali', 'nesham', 'murder', 'mylovevirat18', 'nair', 'named', 'namma', 'nationalistic', 'nations', 'near', 'neck', 'neeshaammm', 'nerd', 'nerds', 'nerve', 'nerves', '100plus', 'need', 'team', '\\nCluster 2:', 'team', 'zize6kysq2', 'flexibility', 'finale', 'finally', 'finals', 'fined', 'finisher', 'firepower', 'fit', 'fitness', 'flaw', 'flaws', 'fleming', 'fluffed', 'filter', 'fluke', 'fn0uegxgss', 'focussed', 'foot', 'forget', 'forgot', 'form', 'format', 'forward', 'fought', 'final', 'figures', 'fow_hundreds', 'fight', 'fascinating', 'fashioned', 'fast', 'fastest', 'fat', 'fatigue', 'fault', 'fav', 'featured', 'feel', 'feeling', 'feels', 'fees', 'feet', 'felt', 'ferguson', 'fewest', 'ffc4pfbvfr', 'ffs', 'field', 'fielder', 'fielders', 'fielding', 'fow', 'frame', 'ground', 'gingers', 'gives', 'giving', 'glad', 'glenn', 'gloves', 'god', 'gods', 'goes', 'going', 'gois', 'gon', 'gone', 'good', 'got', 'grand', 'grandhomme', 'grandmom', 'grandpa', 'grass', 'great', 'greatest', 'greatness', 'greig', 'given', 'gill', 'frankly', 'giddy', 'free', 'frontline', 'fuc', 'fuck', 'fuckboi', 'fucking', 'fulfilling', 'future', 'gaandu', 'gabbar', 'gajal_dalmia', 'gambhir', 'game', 'gand', 'gangsta', 'geez', 'gem', 'genius', 'genuinely', 'gets', 'getter', 'getting', 'giant', 'faridabad', 'fared', 'far', 'drive', 'drop', 'dropped', 'drowning', 'dube', 'dude', 'dumb', 'dumbass', 'duo', 'e3cli7hakf', 'e9fhdkxvvl', 'earlier', 'early', 'earned', 'easiest', 'easily', 'easy', 'economically', 'economy', 'edengarden', 'edge', 'edit', 'eeee', 'effective', 'drives', 'drift', 'elevated', 'dravid', 'dhoni', 'dicked', 'die', 'different', 'dinda', 'dirty', 'dismay', 'dismisses', 'dkkydajukl', 'dm', 'dna', 'does', 'dogshite', 'domestic', 'dominance', 'dong', 'dont', 'dorky', 'dot', 'doubt', 'dougie', 'doull', 'drama', 'el', 'embarrassed', 'fantastic', 'exciting', 'expect', 'expected', 'expensive', 'experience', 'experiment', 'explain', 'expression', 'extent', 'extra', 'extremely', 'faafda', 'face', 'facebook', 'factor', 'fail', 'failures', 'fairness', 'fall', 'fallen', 'falling', 'famous', 'fan', 'fans', 'exists', 'excited', 'embarrassing', 'excellent', 'embodies', 'embodiment', 'encounter', 'end', 'ended', 'endless', 'ends', 'eng', 'enganged', 'engine', 'england', 'englands', 'english', 'ensured', 'enter', 'entire', 'entirely', 'epic', 'er', 'especially', 'espncricinfo', 'eternity', 'exactly', 'grind', 'groupby', 'dhawan', 'ish', 'isntbeven', 'itgdsports', 'iyer', 'jadav', 'jaddu', 'jadeja', 'jadhav', 'jaegi', 'james', 'jamieson', 'jamison', 'jason', 'jaws', 'jeetan', 'jerk', 'jinx', 'jinxed', 'job', 'jogged', 'joginder', 'joke', 'jokes', 'june', 'ishant', 'irritating', 'kane', 'irrespective', 'indiayouloser', 'indication', 'indies', 'individual', 'indvaus', 'indvsaus', 'indvspak', 'injury', 'inki', 'innate', 'inning', 'innings', 'inside', 'inspecting', 'instead', 'intent', 'interesting', 'international', 'interview', 'interviews', 'intl', 'invested', 'ipl', 'just', 'kanes', 'indias', 'kl', 'klrahul', 'knee', 'knew', 'knock', 'know', 'knowing', 'known', 'knuckleball', 'koach', 'kohli', 'kohllapse', 'kolkata', 'kudos', 'kumar', 'kyle', 'lack', 'lackluster', 'lad', 'lady', 'language', 'lanka', 'laps', 'lassi', 'klpd', 'kkriders', 'kannada', 'kiwis', 'kannadigas', 'kanos', 'kanpur', 'karnataka', 'karun', 'kedalitharan', 'kedar', 'keeping', 'keeps', 'keheleng', 'kept', 'khakra', 'khaleel', 'khalifa', 'kholi', 'khrriya', 'kid', 'kidhar', 'kids', 'kill', 'kind', 'kitchen', 'kiwi', 'indiavsaustralia', 'indians', 'grow', 'hardik', 'hat', 'hate', 'hating', 'hatrick', 'hayden', 'head', 'heads', 'hear', 'heard', 'heart', 'hell', 'help', 'henry', 'heres', 'hes', 'hi', 'hiccups', 'higher', 'highest', 'highlights', 'highly', 'hit', 'hitter', 'hardikpandya7', 'hard', 'hold', 'happybirthday', 'growing', 'grows', 'gully', 'gun', 'guppy', 'guptil', 'guptill', 'guy', 'guys', 'h33qfkeafq', 'hahaha', 'hairy', 'haktda', 'half', 'hand', 'handed', 'handful', 'handles', 'hands', 'handsome', 'happened', 'happens', 'happy', 'hitting', 'holding', 'indian', 'hyped', 'ian', 'idea', 'idiot', 'idk', 'imagine', 'imagined', 'imagining', 'imkuldeep18', 'implicating', 'importance', 'important', 'improved', 'imvkohli', 'incident', 'include', 'including', 'incoming', 'increase', 'incredible', 'incredibly', 'ind', 'index', 'india', 'i9gsmw91em', 'huss', 'holeing', 'hurts', 'holy', 'home', 'honestly', 'honesty', 'honour', 'hoon', 'hope', 'hopefully', 'hopes', 'hoping', 'horn', 'hotstar', 'housefull', 'howard', 'html', 'http', 'https', 'hudagaru', 'huge', 'human', 'humbleness', 'hunt', 'hurting', 'dhokla', 'deta', 'lathams', 'bases', 'basically', 'basin', 'bat', 'bats', 'batsman', 'batsmen', 'battered', 'batting', 'battles', 'bcci', 'beat', 'bed', 'beginning', 'believe', 'belting', 'ben', 'benet', 'bengaluru', 'bennet', 'bennett', 'bespectacled', 'best', 'bet', 'basher', 'based', 'bewda', 'barely', 'averaged', 'averages', 'avg', 'awaited', 'award', 'away', 'awe', 'awesome', 'awful', 'azharuddin', 'baboon', 'baby', 'backfire', 'backs', 'backup', 'bad', 'bah', 'balanced', 'ball', 'balls', 'bangladesh', 'bank', 'banter', 'better', 'bhai', 'available', 'boner', 'book', 'boomer', 'booth', 'bored', 'boss', 'bothered', 'bought', 'boult', 'bounce', 'bouncer', 'bouncers', 'bound', 'boundaries', 'bowl', 'bowled', 'bowler', 'bowlers', 'bowling', 'bowls', 'box', 'boy', 'boys', 'bradman', 'booing', 'bollywood', 'bhai_saheb', 'bold', 'bhenchod', 'bhogleharsha', 'bhuvi', 'bias', 'big', 'biggest', 'bilateral', 'billion', 'binny', 'bird', 'birthday', 'bishnoi', 'bit', 'bitch', 'bitches', 'black', 'blade', 'blind', 'bloke', 'bodes', 'boi', 'boiiiiiiiiiiiii', 'bois', 'average', 'australian', 'brainwashed', '8deubtt09v', 'aaronfinch5', 'abandoned', 'able', 'absence', 'absolute', 'absolutely', 'acceleration', 'accent', 'accurate', 'achievable', 'activated', 'actually', 'adamant', 'add', 'advanced', 'advantage', 'aesthetically', 'afghanistan', 'africa', 'afridi', 'agarw', 'agarwal', 'agent', '8th', '7io2ng2rmd', 'aggression', '6th', '100s', '120s', '130s', '140km', '150kph', '15bfeqj1kl', '1st', '20s', '2nd', '30s', '30th', '37th', '3rd', '40s', '42nd', '46th', '4d', '4lrveojo9f', '4th', '50s', '5rsmmaj3sj', '5th', '6s', 'aggarwal', 'aggressive', 'australia', 'applying', 'archer', 'arm', 'armchair', 'arrives', 'ashes', 'ashwin', 'asia', 'asked', 'asset', 'asshole', 'assuming', 'assumption', 'astle', 'ath', 'atleast', 'attack', 'attempt', 'attention', 'audit', 'auditors', 'aur', 'aus', 'aussies', 'appreciating', 'apparently', 'aggressively', 'apologize', 'ago', 'ah', 'ahead', 'aiajk19hos', 'aight', 'aim', 'ajinkyarahane88', 'aklive', 'alert', 'alive', 'allrounders', 'alright', 'amazing', 'ambati', 'ameetasinh', 'amenners', 'ancient', 'anderson', 'anilkumble1074', 'anticipation', 'anymore', 'anyways', 'apart', 'brain', 'brand', 'destructive', 'contribution', 'conversation', 'corner', 'coughing', 'counter', 'countries', 'country', 'county', 'couple', 'covers', 'cowards', 'cracking', 'crap', 'crease', 'credit', 'cricalytics', 'cricbuzz', 'cricinfo', 'cricket', 'cricketer', 'cricketers', 'cricketnews', 'cricketnext', 'crickets', 'control', 'contract', 'critics', 'continuous', 'compared', 'competition', 'competitive', 'complete', 'completely', 'completes', 'concede', 'concentration', 'concerns', 'conditions', 'confident', 'confirmed', 'confuse', 'confused', 'confusing', 'congrats', 'consecutive', 'considering', 'consistency', 'continent', 'continue', 'continues', 'continuing', 'crictracker', 'crowd', 'committing', 'decent', 'decision', 'declare', 'def', 'defeat', 'defeated', 'defensive', 'definitely', 'deleted', 'deliver', 'delivery', 'demoted', 'department', 'dependable', 'depression', 'desert', 'desertstorm', 'deserve', 'deserves', 'desi', 'desperately', 'despite', 'destroyed', 'destroying', 'decided', 'debates', 'crying', 'deba', 'cummins', 'cunt', 'cup', 'current', 'currently', 'curse', 'cut', 'cuz', 'cwc', 'cwc15', 'cwc19', 'daddy', 'dafuq', 'dammm', 'damn', 'damngood', 'dancing', 'day', 'days', 'dead', 'deal', 'dealt', 'death', 'comms', 'commiserations', 'break', 'cap', 'capitalize', 'caps', 'captain', 'captaincy', 'captaining', 'captainship', 'career', 'carried', 'carry', 'case', 'casual', 'casually', 'catch', 'catching', 'caught', 'cause', 'cdg', 'cdgs', 'centuries', 'century', 'chad', 'chahal', 'championship', 'capable', 'campaign', 'chances', 'cameo', 'brendan', 'brendon', 'brilliant', 'bring', 'bringing', 'bro', 'bros', 'brought', 'bruh', 'brutal', 'btw', 'build', 'building', 'bullshit', 'bully', 'bumrah', 'busy', 'ca', 'called', 'calling', 'calls', 'calm', 'came', 'chance', 'change', 'comments', 'clearing', 'clinical', 'close', 'club', 'coach', 'coffee', 'col', 'coli', 'colin', 'colins', 'collapse', 'colleagues', 'com', 'combined', 'come', 'comeback', 'comes', 'comfortable', 'coming', 'comm', 'comment', 'commentary', 'commentator', 'commentators', 'clearly', 'clean', 'chanting', 'classy', 'chappell', 'charm', 'chase', 'chasing', 'cheap', 'cheaply', 'chess', 'child', 'chill', 'chinaswamy', 'chitting', 'choice', 'chokers', 'choking', 'chose', 'christ', 'churn', 'ci', 'circuits', 'citizenship', 'claim', 'clarity', 'class', 'latham', 'laughing', 'zimbabwe', 'stand', 'stands', 'star', 'starc', 'starsportsindia', 'start', 'started', 'starting', 'starts', 'stat', 'stats', 'stay', 'steadied', 'steadying', 'stealing', 'steel', 'stepping', 'steve', 'sticking', 'stone', 'stop', 'storm', 'straight', 'strategy', 'standard', 'stance', 'strength', 'stag', 'south', 'southee', 'spanking', 'spanner', 'spare', 'speaking', 'speaks', 'spearhead', 'species', 'specifically', 'spell', 'spin', 'spinner', 'spinning', 'spirit', 'sponsoring', 'sport', 'sportsflashes', 'spud', 'spxvp3dahv', 'squad', 'sri', 'stadium', 'streak', 'strike', 'soul', 'surprised', 'suspicion', 'swear', 'sweep', 'sweet', 'swing', 'swinging', 'syllabus', 't20', 't20s', 't20wc', 't20wc2016', 't20worldcup', 'ta', 'tag', 'tak', 'taken', 'taker', 'takes', 'taketh', 'taking', 'talent', 'talk', 'talking', 'surreal', 'surely', 'striking', 'sure', 'stronger', 'struggling', 'stuck', 'stuff', 'stump', 'stumps', 'style', 'stylish', 'sub', 'subject', 'success', 'successful', 'suicidal', 'sujoybarg07', 'summarized', 'summer', 'sunglasses', 'sunny', 'super', 'superover', 'support', 'supporter', 'supreme', 'source', 'sort', 'tall', 'serve', 'sexy', 'shahid', 'shake', 'shakes', 'shami', 'shankar', 'shardul', 'sharma', 'shashankv76', 'shastri', 'shaw', 'shifted', 'ship', 'shipped', 'shit', 'shitfest', 'shitting', 'shivam', 'shocking', 'sholay', 'shoot', 'short', 'shot', 'set', 'series', 'showed', 'sensible', 'score', 'scored', 'scoreline', 'scorer', 'scorers', 'scores', 'scoring', 'scotty', 'seam', 'second', 'seeing', 'seemingly', 'seen', 'sehawag', 'sehwag', 'select', 'selected', 'selecting', 'selection', 'selectors', 'sena', 'send', 'sense', 'shots', 'showing', 'sorry', 'sledging', 'slight', 'slog', 'slot', 'slow', 'slower', 'smaller', 'smart', 'smash', 'smashing', 'smiling', 'smith', 'smithy', 'smoking', 'sneaked', 'sneakily', 'sodhi', 'sohdi', 'sold', 'solid', 'somethings', 'somewhat', 'soon', 'sorrows', 'slides', 'sledge', 'shows', 'slander', 'shreyas', 'shubmangill', 'sick', 'sign', 'silly', 'silver', 'sim2izgfr5', 'simmons', 'simon', 'singh', 'single', 'singles', 'sink', 'sir', 'siraj', 'sister', 'situation', 'situations', 'sixes', 'skills', 'skin', 'sky', 'sl', 'talks', 'tape', 'school', 'warm', 'washout', 'waste', 'watch', 'watched', 'watches', 'watching', 'watling', 'way', 'wc', 'weakness', 'welcome', 'went', 'west', 'whatnot', 'whatsapp', 'whine', 'whisky', 'whitewash', 'whitewashed', 'wi', 'wicket', 'wicketkeeper', 'wickets', 'warned', 'wants', 'williamson', 'want', 'vada', 'valuable', 'value', 'various', 've', 'verbal', 'version', 'vettori', 'victory', 'video', 'vijay', 'village', 'vinay', 'virat', 'virgin', 'vlp1994', 'vs', 'vvslaxman281', 'wade', 'wagner', 'wait', 'waiting', 'wakes', 'wife', 'win', 'use', 'wtf', 'wyb', 'wyb2p72il2', 'x200b', 'xi', 'y24m8jiebj', 'yeah', 'year', 'years', 'yep', 'yer', 'yes', 'yjvijzgbuh', 'yo', 'york', 'yorker', 'young', 'younger', 'youth', 'ysjagan', 'yuvraj', 'yvbusxncqk', 'zealand', 'zim', 'www', 'wt20', 'windies', 'wright', 'winning', 'wise', 'wish', 'wishing', 'wk', 'wks', 'wo', 'wolowitz', 'women', 'wonder', 'wonderfully', 'wont', 'words', 'work', 'working', 'workload', 'world', 'worried', 'worse', 'worst', 'worth', 'wow', 'wracking', 'using', 'ups', 'task', 'thankyou', 'thicc', 'thing', 'thingee', 'things', 'thingy', 'think', 'thinking', 'thoons', 'thread', 'threat', 'threatened', 'thriller', 'thrown', 'throws', 'til', 'till', 'time', 'times', 'tint', 'tired', 'today', 'toes', 'toll', 'thejinxyyyy', 'thanks', 'ton', 'thank', 'taste', 'tasty', 'taunton', 'taylor', 'tbh', 'teach', 'teamindia', 'teams', 'tearing', 'tell', 'telling', 'template', 'tempo', 'tendulkar', 'terrific', 'test', 'testcricket', 'testing', 'tests', 'text', 'tf', 'thakur', 'thakurs', 'tom', 'tonight', 'upholding', 'turning', 'tweets', 'twist', 'twitter', 'tye', 'tying', 'type', 'tzfnxd8qwx', 'ug6ctfgg8u', 'ump', 'unamed', 'undeniable', 'understand', 'unhappy', 'unit', 'unleashthequiche', 'unless', 'unlike', 'unlucky', 'unofficial', 'unprecedented', 'unsual', 'upcoming', 'uphold', 'tv', 'turned', 'tony', 'tuned', 'took', 'topic', 'toss', 'totally', 'touch', 'tour', 'tournament', 'track', 'tracked', 'trademark', 'training', 'trainings', 'trapped', 'trash', 'travesty', 'treat', 'trick', 'tries', 'trophy', 'true', 'trust', 'trustworthy', 'trying', 'scooby', 'scg', 'law', 'named', 'nanobots', 'nationalistic', 'nations', 'near', 'neck', 'need', 'needed', 'needing', 'needs', 'neesh', 'neeshaammm', 'neesham', 'nerd', 'nerds', 'nerve', 'nerves', 'nesham', 'new', 'newbie', 'news', 'ngl', 'nice', 'nicholas', 'namma', 'nair', 'night', 'nah', 'minnow', 'minutes', 'misjudge', 'miss', 'misses', 'missing', 'mistake', 'mitch', 'mode', 'moment', 'months', 'mount', 'mouth', 'movie', 'ms', 'mum', 'munro', 'muppets', 'murali', 'murder', 'mylovevirat18', 'na', 'nagpur', 'nicholls', 'nips', 'mind', 'opening', 'opportunity', 'opposite', 'opposition', 'option', 'oram', 'orange', 'order', 'orderby', 'orderbyad', 'origin', 'outdated', 'outplayed', 'outside', 'overall', 'overhauled', 'overrated', 'overs', 'paav', 'pace', 'packing', 'packs', 'paid', 'pair', 'opportunities', 'openers', 'noises', 'opener', 'non', 'nonsense', 'normal', 'nostalgia', 'npcs', 'number', 'nutted', 'nz', 'oc6ccelfjj', 'odi', 'odis', 'odu', 'office', 'official', 'oh', 'ok', 'old', 'older', 'omnipresent', 'onthisdate', 'onthisday', 'open', 'opened', 'minimal', 'middle', 'pakistan', 'line', 'lips', 'listen', 'literally', 'little', 'll', 'lmao', 'lmfao', 'loi', 'lois', 'lol', 'long', 'look', 'looked', 'looking', 'looks', 'loosing', 'lord', 'lords', 'lordship', 'lose', 'losing', 'loss', 'losses', 'linings', 'limited', 'lot', 'likes', 'lawyer', 'laxman', 'le', 'leadership', 'learned', 'learns', 'leave', 'left', 'legal', 'legend', 'legit', 'length', 'lengths', 'let', 'letting', 'level', 'levels', 'levers', 'licks', 'life', 'lift', 'like', 'liked', 'lost', 'love', 'mid', 'masterclass', 'matches', 'matter', 'matthew', 'matthewwade', 'maukamauka', 'maunganui', 'max', 'maxwell', 'mayan', 'mayank', 'mayanti', 'mccullum', 'mclarke23', 'mean', 'meaning', 'means', 'meantime', 'mediocre', 'mellon', 'memes', 'mention', 'mia', 'mics', 'match', 'master', 'loves', 'martin', 'low', 'lower', 'lowest', 'luck', 'macca', 'mad', 'madarchod', 'maga', 'magic', 'magnificent', 'main', 'make', 'makes', 'making', 'man', 'managed', 'management', 'manager', 'manages', 'mangalore', 'manish', 'marillier', 'marquee', 'pak', 'panchods', 'scary', 'released', 'reliable', 'relivethemoment', 'remarkable', 'remarks', 'remember', 'reminds', 'replace', 'replay', 'reputation', 'reserve', 'reset', 'respect', 'respectable', 'rest', 'restless', 'restrained', 'results', 'retire', 'retired', 'return', 'returns', 'reveals', 'revenge', 'relevant', 'relaxed', 'rhythm', 'reincarnated', 'rate', 'ravi', 'rayudu', 'rcb', 'reactionary', 'read', 'real', 'reality', 'realize', 'really', 'reassuring', 'recent', 'reckon', 'recognises', 'recovering', 'recovery', 'red', 'referee', 'reflection', 'refusal', 'refuse', 'refusing', 'regardless', 'reverse', 'rid', 'raina', 'rt', 'rubbish', 'ruining', 'run', 'runners', 'running', 'runout', 'runs', 'sa', 'sachin', 'sachin_rt', 'sad', 'safe', 'said', 'saini', 'sake', 'sanju', 'santner', 'sasural', 'saving', 'saw', 'say', 'saying', 'says', 'rubber', 'rsa', 'ridanajamkhan', 'rr', 'ridiculous', 'right', 'rip', 'rishab', 'rishabh', 'rn', 'road', 'robots', 'rock', 'rohit', 'rohitsharma', 'role', 'roots', 'rope', 'ross', 'rotate', 'rotation', 'rounder', 'rounders', 'row', 'roy', 'royal', 'rp2utl9zja', 'rant', 'rahuldravid', 'pandey', 'performance', 'performing', 'persists', 'phirse', 'phone', 'physically', 'pic', 'pick', 'picking', 'picnic', 'pictures', 'pig2', 'pinch', 'piss', 'pitch', 'place', 'plan', 'play', 'played', 'player', 'players', 'playing', 'plays', 'pleasing', 'performances', 'perform', 'plus', 'perfectly', 'pandya', 'pant', 'panty', 'papi', 'par', 'parents', 'parody', 'partnership', 'partnership_wicket', 'partnership_wicketmax1', 'partnership_wicketmin1', 'partnership_wicketval1', 'partnerships', 'past', 'pasting', 'patch', 'patel', 'pattern', 'pay', 'peach', 'pecking', 'peers', 'people', 'plot', 'point', 'rahul', 'promo', 'proof', 'proper', 'props', 'prospect', 'protagonist', 'proud', 'proved', 'ptsd', 'pulling', 'punishment', 'punjabi', 'pure', 'purple', 'push', 'pushing', 'quality', 'qualmin1', 'qualval1', 'quarters', 'questions', 'quite', 'qygtvianxs', 'raging', 'promote', 'promise', 'pool', 'probably', 'poor', 'poorly', 'position', 'posititon', 'positives', 'possible', 'post', 'posted', 'potential', 'powerful', 'practice', 'praise', 'praising', 'praying', 'precedent', 'predict', 'predictability', 'preparation', 'pressure', 'pretty', 'prisoners', 'prithvi', 'prithvishaw', '100plus']\n"
     ]
    }
   ],
   "source": [
    "clusterlist = []\n",
    "for i in range(true_k):\n",
    "    clusterlist.append('\\nCluster %d:' % i),\n",
    "    for ind in order_centroids[i]:\n",
    "        #print( '%s' % terms[ind])\n",
    "        clusterlist.append('%s' % terms[ind])\n",
    "print(clusterlist)"
   ]
  },
  {
   "cell_type": "code",
   "execution_count": 56,
   "metadata": {},
   "outputs": [
    {
     "ename": "ValueError",
     "evalue": "not enough values to unpack (expected 3, got 1)",
     "output_type": "error",
     "traceback": [
      "\u001b[0;31m---------------------------------------------------------------------------\u001b[0m",
      "\u001b[0;31mValueError\u001b[0m                                Traceback (most recent call last)",
      "\u001b[0;32m<ipython-input-56-a86e58d96282>\u001b[0m in \u001b[0;36m<module>\u001b[0;34m\u001b[0m\n\u001b[1;32m      2\u001b[0m \u001b[0;34m\u001b[0m\u001b[0m\n\u001b[1;32m      3\u001b[0m \u001b[0mresult\u001b[0m \u001b[0;34m=\u001b[0m \u001b[0mlist\u001b[0m\u001b[0;34m(\u001b[0m\u001b[0mmit\u001b[0m\u001b[0;34m.\u001b[0m\u001b[0msplit_at\u001b[0m\u001b[0;34m(\u001b[0m\u001b[0mclusterlist\u001b[0m\u001b[0;34m,\u001b[0m \u001b[0mpred\u001b[0m\u001b[0;34m=\u001b[0m\u001b[0;32mlambda\u001b[0m \u001b[0mx\u001b[0m\u001b[0;34m:\u001b[0m \u001b[0mset\u001b[0m\u001b[0;34m(\u001b[0m\u001b[0mx\u001b[0m\u001b[0;34m)\u001b[0m \u001b[0;34m&\u001b[0m \u001b[0;34m{\u001b[0m\u001b[0;34m\"\\nCluster 1:\"\u001b[0m\u001b[0;34m}\u001b[0m\u001b[0;34m)\u001b[0m\u001b[0;34m)\u001b[0m\u001b[0;34m\u001b[0m\u001b[0;34m\u001b[0m\u001b[0m\n\u001b[0;32m----> 4\u001b[0;31m \u001b[0msublist_1\u001b[0m\u001b[0;34m,\u001b[0m \u001b[0msublist_2\u001b[0m\u001b[0;34m,\u001b[0m \u001b[0msublist_3\u001b[0m \u001b[0;34m=\u001b[0m \u001b[0mresult\u001b[0m\u001b[0;34m\u001b[0m\u001b[0;34m\u001b[0m\u001b[0m\n\u001b[0m",
      "\u001b[0;31mValueError\u001b[0m: not enough values to unpack (expected 3, got 1)"
     ]
    }
   ],
   "source": [
    "import more_itertools as mit\n",
    "\n",
    "result = list(mit.split_at(clusterlist, pred=lambda x: set(x) & {\"\\nCluster 1:\"}))\n",
    "sublist_1, sublist_2, sublist_3 = result\n"
   ]
  },
  {
   "cell_type": "code",
   "execution_count": null,
   "metadata": {},
   "outputs": [],
   "source": [
    "print('\\n')\n",
    "print('Prediction')\n",
    "X = vectorizer.transform(redditdata)\n",
    "predicted = model.predict(X)\n",
    "print(predicted)"
   ]
  },
  {
   "cell_type": "markdown",
   "metadata": {},
   "source": [
    "# Sentiment Analysis using NLTK"
   ]
  },
  {
   "cell_type": "code",
   "execution_count": 35,
   "metadata": {},
   "outputs": [],
   "source": [
    "import pandas as pd\n",
    "messages = [line.rstrip() for line in open(\"redditdataset.csv\")]\n",
    "data = pd.read_csv(\"redditdataset.csv\",sep=\"\\n\",names=[\"message\"])"
   ]
  },
  {
   "cell_type": "code",
   "execution_count": 36,
   "metadata": {},
   "outputs": [
    {
     "data": {
      "text/plain": [
       "'So this is the worst series of Kohli like in years.'"
      ]
     },
     "execution_count": 36,
     "metadata": {},
     "output_type": "execute_result"
    }
   ],
   "source": [
    "data[\"message\"][1]\n",
    "#just to check if datacorpus is loaded currectly."
   ]
  },
  {
   "cell_type": "code",
   "execution_count": 37,
   "metadata": {},
   "outputs": [
    {
     "name": "stderr",
     "output_type": "stream",
     "text": [
      "[nltk_data] Downloading package vader_lexicon to\n",
      "[nltk_data]     /home/warlock/nltk_data...\n",
      "[nltk_data]   Package vader_lexicon is already up-to-date!\n"
     ]
    },
    {
     "data": {
      "text/plain": [
       "True"
      ]
     },
     "execution_count": 37,
     "metadata": {},
     "output_type": "execute_result"
    }
   ],
   "source": [
    "import nltk\n",
    "nltk.download('vader_lexicon')"
   ]
  },
  {
   "cell_type": "code",
   "execution_count": 38,
   "metadata": {},
   "outputs": [],
   "source": [
    "from nltk.sentiment.vader import SentimentIntensityAnalyzer"
   ]
  },
  {
   "cell_type": "code",
   "execution_count": 39,
   "metadata": {},
   "outputs": [],
   "source": [
    "sid = SentimentIntensityAnalyzer()"
   ]
  },
  {
   "cell_type": "code",
   "execution_count": 40,
   "metadata": {},
   "outputs": [
    {
     "name": "stdout",
     "output_type": "stream",
     "text": [
      "{'positive': 206, 'neutral': 448, 'negative': 140}\n"
     ]
    }
   ],
   "source": [
    "summary = {\"positive\":0,\"neutral\":0,\"negative\":0}\n",
    "for x in messages: \n",
    "    ss = sid.polarity_scores(x)\n",
    "    if ss[\"compound\"] == 0.0: \n",
    "        summary[\"neutral\"] +=1\n",
    "    elif ss[\"compound\"] > 0.0:\n",
    "        summary[\"positive\"] +=1\n",
    "    else:\n",
    "        summary[\"negative\"] +=1\n",
    "print(summary)"
   ]
  },
  {
   "cell_type": "code",
   "execution_count": 41,
   "metadata": {},
   "outputs": [
    {
     "data": {
      "text/plain": [
       "dict"
      ]
     },
     "execution_count": 41,
     "metadata": {},
     "output_type": "execute_result"
    }
   ],
   "source": [
    "type(summary)"
   ]
  },
  {
   "cell_type": "code",
   "execution_count": 43,
   "metadata": {},
   "outputs": [
    {
     "data": {
      "image/png": "[encoded data removed]",
      "text/plain": [
       "<Figure size 432x288 with 1 Axes>"
      ]
     },
     "metadata": {},
     "output_type": "display_data"
    }
   ],
   "source": [
    "import matplotlib.pyplot as plt\n",
    "labels = tuple(summary.keys())\n",
    "sizes = list(summary.values())\n",
    "explode = (0, 0.1, 0)\n",
    "plt.pie(sizes, explode=explode, labels=labels, autopct='%1.1f%%',\n",
    "        shadow=True)\n",
    "plt.axis('equal')\n",
    "plt.show()"
   ]
  },
  {
   "cell_type": "code",
   "execution_count": null,
   "metadata": {},
   "outputs": [],
   "source": []
  }
 ],
 "metadata": {
  "kernelspec": {
   "display_name": "Python 3",
   "language": "python",
   "name": "python3"
  },
  "language_info": {
   "codemirror_mode": {
    "name": "ipython",
    "version": 3
   },
   "file_extension": ".py",
   "mimetype": "text/x-python",
   "name": "python",
   "nbconvert_exporter": "python",
   "pygments_lexer": "ipython3",
   "version": "3.7.4"
  }
 },
 "nbformat": 4,
 "nbformat_minor": 2
}
